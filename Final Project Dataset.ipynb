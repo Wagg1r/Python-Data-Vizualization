{
 "cells": [
  {
   "cell_type": "code",
   "execution_count": 1,
   "id": "0268552d",
   "metadata": {},
   "outputs": [
    {
     "name": "stdout",
     "output_type": "stream",
     "text": [
      "['Timestamp', 'Age', 'Industry', 'Job title', 'Annual Salary', 'Additional Compensation', 'Currency', 'What country do you work in?', \"If you're in the U.S., what state do you work in?\", 'What city do you work in?', 'Total Work Experience', 'In-Field Experience', 'Education', 'Gender', 'Race']\n"
     ]
    }
   ],
   "source": [
    "import pandas as pd\n",
    "import numpy as np\n",
    "\n",
    "csv = pd.read_csv('2021 Raw Data.csv')\n",
    "df = csv\n",
    "\n",
    "columns = list(df.columns.values)\n",
    "print(columns)"
   ]
  },
  {
   "cell_type": "markdown",
   "id": "a83bf31b",
   "metadata": {},
   "source": [
    "# Overarching question:\n",
    "\n",
    "## What demographic most affects salary in the United States?\n",
    "### - How much does education level affect salary?\n",
    "### - Looking at the same fields, how does state location affect salary?"
   ]
  },
  {
   "cell_type": "markdown",
   "id": "3e48ac00",
   "metadata": {},
   "source": [
    "## A) \n",
    "### Total rows: 27,941\n",
    "### Total columns: 17 ** there are more than 17 columns in the file, we will only be using 17.\n",
    "\n",
    "## B)\n",
    "### Each row represents an individual person.\n",
    "\n",
    "## C) Columns: \n",
    "'Timestamp'\n",
    "'How old are you?', \n",
    "'What industry do you work in?',\n",
    "'Job title',\n",
    "'If your job title needs additional context, please clarify here:', \n",
    "\"What is your annual salary? (You'll indicate the currency in a later question. If you are part-time or hourly, please enter an annualized equivalent -- what you would earn if you worked the job 40 hours a week, 52 weeks a year.)\", \n",
    "'How much additional monetary compensation do you get, if any (for example, bonuses or overtime in an average year)? Please only include monetary compensation here, not the value of benefits.', \n",
    "'Please indicate the currency', 'If your income needs additional context, please provide it here:',\n",
    "'What country do you work in?',\n",
    "\"If you're in the U.S., what state do you work in?\",\n",
    "'What city do you work in?',\n",
    "'How many years of professional work experience do you have overall?',\n",
    "'How many years of professional work experience do you have in your field?',\n",
    "'What is your highest level of education completed?',\n",
    "'What is your gender?',\n",
    "'What is your race? (Choose all that apply.)'\n"
   ]
  },
  {
   "cell_type": "markdown",
   "id": "d5c73d94",
   "metadata": {},
   "source": [
    "## D) Data tyes:"
   ]
  },
  {
   "cell_type": "code",
   "execution_count": 2,
   "id": "d49229df",
   "metadata": {},
   "outputs": [
    {
     "data": {
      "text/plain": [
       "Timestamp                                             object\n",
       "Age                                                   object\n",
       "Industry                                              object\n",
       "Job title                                             object\n",
       "Annual Salary                                         object\n",
       "Additional Compensation                              float64\n",
       "Currency                                              object\n",
       "What country do you work in?                          object\n",
       "If you're in the U.S., what state do you work in?     object\n",
       "What city do you work in?                             object\n",
       "Total Work Experience                                 object\n",
       "In-Field Experience                                   object\n",
       "Education                                             object\n",
       "Gender                                                object\n",
       "Race                                                  object\n",
       "dtype: object"
      ]
     },
     "execution_count": 2,
     "metadata": {},
     "output_type": "execute_result"
    }
   ],
   "source": [
    "df.dtypes"
   ]
  },
  {
   "cell_type": "markdown",
   "id": "5a5a1d1b",
   "metadata": {},
   "source": [
    "## E) \n",
    "\n",
    "### Categorical:\n",
    "\n",
    "Timestamp                                                                   \n",
    "How old are you?                                                           \n",
    "What industry do you work in?                                               \n",
    "Job title                                                                   \n",
    "If your job title needs additional context, please clarify here:           \n",
    "What is your annual salary? (You'll indicate the currency in a later question. If you are part-time or hourly, please enter an annualized equivalent -- what you would earn if you worked the job 40 hours a week, 52 weeks a year.)\n",
    "How much additional monetary compensation do you get, if any (for example, bonuses or overtime in an average year)? Please only include monetary compensation here, not the value of benefits.                               \n",
    "Please indicate the currency                                               \n",
    "If your income needs additional context, please provide it here:           \n",
    "What country do you work in?                                               \n",
    "If you're in the U.S., what state do you work in?                           \n",
    "What city do you work in?                                                   \n",
    "How many years of professional work experience do you have overall?         \n",
    "How many years of professional work experience do you have in your field?   \n",
    "\n",
    "\n",
    "\n",
    "### Nominal:\n",
    "What is your highest level of education completed? "
   ]
  },
  {
   "cell_type": "markdown",
   "id": "90b1e04d",
   "metadata": {},
   "source": [
    "## F)"
   ]
  },
  {
   "cell_type": "markdown",
   "id": "b8669b25",
   "metadata": {},
   "source": [
    "\tAnnual Salary\n",
    "Mean: 147,304\n",
    "Median: 75,127\n",
    "Mode: 60000\n",
    "StDev: 5419442.791\n",
    "Min: 0\n",
    "Q1: 54000\n",
    "Q2: 75127\n",
    "Q3: 110000\n",
    "Max:870000000\n",
    "\n",
    "Additional Compensation\n",
    "Mean: 18211.57809\n",
    "Median: 2000\n",
    "Mode: 0\n",
    "StDev: 835643.6522\n",
    "Min: 0\n",
    "Q1: 0\n",
    "Q2: 2000\n",
    "Q3: 10000\n",
    "Max: 120000000"
   ]
  },
  {
   "cell_type": "markdown",
   "id": "c719879c",
   "metadata": {},
   "source": [
    "## Blank values in each column"
   ]
  },
  {
   "cell_type": "markdown",
   "id": "b24e6cd7",
   "metadata": {},
   "source": [
    "Timestamp: 0\n",
    "Age: 0\n",
    "Industry: 0\n",
    "Job title: 0\n",
    "Annual Salary: 0\n",
    "Additional Compensation: 7253\n",
    "Currency: 0\n",
    "What country do you work in?: 0\n",
    "If you're in the U.S., what state do you work in?: 4980\n",
    "What city do you work in?: 0\n",
    "Total Work Experience: 0\n",
    "In-Field Experience: 0\n",
    "Education: 213\n",
    "Gender: 166\n",
    "Race: 168"
   ]
  },
  {
   "cell_type": "markdown",
   "id": "fe7b3e0c",
   "metadata": {},
   "source": [
   ]
  }
 ],
 "metadata": {
  "kernelspec": {
   "display_name": "Python 3 (ipykernel)",
   "language": "python",
   "name": "python3"
  },
  "language_info": {
   "codemirror_mode": {
    "name": "ipython",
    "version": 3
   },
   "file_extension": ".py",
   "mimetype": "text/x-python",
   "name": "python",
   "nbconvert_exporter": "python",
   "pygments_lexer": "ipython3",
   "version": "3.9.13"
  }
 },
 "nbformat": 4,
 "nbformat_minor": 5
}
