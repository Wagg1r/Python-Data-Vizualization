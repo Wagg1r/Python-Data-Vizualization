{
 "cells": [
  {
   "cell_type": "code",
   "execution_count": null,
   "id": "8c05c0c8",
   "metadata": {},
   "outputs": [],
   "source": [
    "import random\n",
    "dicerolls1 = {}\n",
    "dicerolls2 = {}\n",
    "dicerollssum = {}\n",
    "n =int(input(\"enter a number: \"))\n",
    "\n",
    "for i in range(n):\n",
    "    num1=random.randint(1,6)\n",
    "    if num1 in dicerolls1:\n",
    "        dicerolls1[num1] += 1\n",
    "    else:\n",
    "        dicerolls1[num1]=1 \n",
    "\n",
    "    \n",
    "    num2=random.randint(1,6)\n",
    "    if num2 in dicerolls2:\n",
    "        dicerolls2[num2] += 1\n",
    "    else:\n",
    "        dicerolls2[num2]=1 \n",
    "\n",
    "    add = num1 + num2\n",
    "    if add in dicerollssum:\n",
    "        dicerollssum[add] += 1\n",
    "    else:\n",
    "        dicerollssum[add] = 1\n",
    "    \n",
    "    \n",
    "print(dicerolls2)   \n",
    "print(dicerolls1)        \n",
    "print(dicerollssum)\n",
    "\n",
    "\n",
    "for i in sorted(dicerollssum):\n",
    "    print(\"x\" *dicerollssum[i])\n",
    "    print(\"this looks similair to a pyramid on its side. it is short on the ends and tall in the middle\")"
   ]
  }
 ],
 "metadata": {
  "kernelspec": {
   "display_name": "Python 3 (ipykernel)",
   "language": "python",
   "name": "python3"
  },
  "language_info": {
   "codemirror_mode": {
    "name": "ipython",
    "version": 3
   },
   "file_extension": ".py",
   "mimetype": "text/x-python",
   "name": "python",
   "nbconvert_exporter": "python",
   "pygments_lexer": "ipython3",
   "version": "3.9.13"
  }
 },
 "nbformat": 4,
 "nbformat_minor": 5
}
