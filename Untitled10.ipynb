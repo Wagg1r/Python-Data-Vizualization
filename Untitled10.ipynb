{
 "cells": [
  {
   "cell_type": "code",
   "execution_count": 1,
   "id": "8097e6c5",
   "metadata": {},
   "outputs": [],
   "source": [
    "import pandas as pd\n",
    "import numpy as np\n",
    "import matplotlib as ml\n",
    "\n",
    "pres_data = pd.read_csv('1976-2020-president.csv')"
   ]
  },
  {
   "cell_type": "code",
   "execution_count": 2,
   "id": "48b33ae6",
   "metadata": {},
   "outputs": [
    {
     "name": "stdout",
     "output_type": "stream",
     "text": [
      "      year    state state_po  state_fips  state_cen  state_ic        office  \\\n",
      "0     1976  ALABAMA       AL           1         63        41  US PRESIDENT   \n",
      "1     1976  ALABAMA       AL           1         63        41  US PRESIDENT   \n",
      "2     1976  ALABAMA       AL           1         63        41  US PRESIDENT   \n",
      "3     1976  ALABAMA       AL           1         63        41  US PRESIDENT   \n",
      "4     1976  ALABAMA       AL           1         63        41  US PRESIDENT   \n",
      "...    ...      ...      ...         ...        ...       ...           ...   \n",
      "4282  2020  WYOMING       WY          56         83        68  US PRESIDENT   \n",
      "4283  2020  WYOMING       WY          56         83        68  US PRESIDENT   \n",
      "4284  2020  WYOMING       WY          56         83        68  US PRESIDENT   \n",
      "4285  2020  WYOMING       WY          56         83        68  US PRESIDENT   \n",
      "4286  2020  WYOMING       WY          56         83        68  US PRESIDENT   \n",
      "\n",
      "                    candidate              party_detailed writein  \\\n",
      "0               CARTER, JIMMY                    DEMOCRAT   False   \n",
      "1                FORD, GERALD                  REPUBLICAN   False   \n",
      "2              MADDOX, LESTER  AMERICAN INDEPENDENT PARTY   False   \n",
      "3     BUBAR, BENJAMIN \"\"BEN\"\"                 PROHIBITION   False   \n",
      "4                   HALL, GUS         COMMUNIST PARTY USE   False   \n",
      "...                       ...                         ...     ...   \n",
      "4282            JORGENSEN, JO                 LIBERTARIAN   False   \n",
      "4283            PIERCE, BROCK                 INDEPENDENT   False   \n",
      "4284                      NaN                         NaN    True   \n",
      "4285                OVERVOTES                         NaN   False   \n",
      "4286               UNDERVOTES                         NaN   False   \n",
      "\n",
      "      candidatevotes  totalvotes   version  notes party_simplified  \n",
      "0             659170     1182850  20210113    NaN         DEMOCRAT  \n",
      "1             504070     1182850  20210113    NaN       REPUBLICAN  \n",
      "2               9198     1182850  20210113    NaN            OTHER  \n",
      "3               6669     1182850  20210113    NaN            OTHER  \n",
      "4               1954     1182850  20210113    NaN            OTHER  \n",
      "...              ...         ...       ...    ...              ...  \n",
      "4282            5768      278503  20210113    NaN      LIBERTARIAN  \n",
      "4283            2208      278503  20210113    NaN            OTHER  \n",
      "4284            1739      278503  20210113    NaN            OTHER  \n",
      "4285             279      278503  20210113    NaN            OTHER  \n",
      "4286            1459      278503  20210113    NaN            OTHER  \n",
      "\n",
      "[4287 rows x 15 columns]\n"
     ]
    }
   ],
   "source": [
    "print(pres_data)"
   ]
  },
  {
   "cell_type": "markdown",
   "id": "837eebf1",
   "metadata": {},
   "source": [
    "part 1.3\n",
    "canidatevotes is the canidates number of votes\n",
    "party_detailed tells the exact party the canidate was apart of and party_simplified will only give you four options democrat, republican, libertarian or other.\n"
   ]
  },
  {
   "cell_type": "code",
   "execution_count": 11,
   "id": "7ded1d02",
   "metadata": {},
   "outputs": [
    {
     "data": {
      "text/plain": [
       "array(['CARTER, JIMMY', 'FORD, GERALD', 'MADDOX, LESTER',\n",
       "       'BUBAR, BENJAMIN \"\"BEN\"\"', 'HALL, GUS', 'MACBRIDE, ROGER', nan,\n",
       "       'MCCARTHY, EUGENE \"\"GENE\"\"', 'CAMEJO, PETER',\n",
       "       'ANDERSON, THOMAS J.', 'WRIGHT, MARGARET', 'LAROUCHE, LYNDON, JR.',\n",
       "       'SCATTERING', 'OTHER', 'JULIUS \"\"JULES\"\", LEVIN', 'ZEIDLER, FRANK',\n",
       "       'REAGAN, RONALD', 'ANDERSON, JOHN B.', 'RARICK, JOHN',\n",
       "       'CLARK, EDWARD \"\"ED\"\"', 'DEBERRY, CLIFTON', 'MCREYNOLDS, DAVID',\n",
       "       'COMMONER, BARRY', 'GRISWOLD, DEIRDRE', 'SMITH, MAUREEN',\n",
       "       'PULLEY, ANDREW', 'GREAVES, PERCY L, JR.', 'SHELTON, FRANK, JR.',\n",
       "       'MCCORMACK, ELLEN', 'LYNEN, KURT', 'GAHRES, WILLIAM \"\"BILL\"\"',\n",
       "       'WENDELKEN, MARTIN E.', 'MCLAIN, HARLEY', 'CONGRESS, RICHARD',\n",
       "       'MONDALE, WALTER', 'BERGLAND, DAVID', 'RICHARDS, BOB',\n",
       "       'MASON, MELVIN', 'SERRETTE, DENNIS', 'JOHNSON, SONIA',\n",
       "       'DODGE, EARL', 'LOWERY, ARTHUR', 'DENNIS, DELMAR', 'HOLMES, LARRY',\n",
       "       'WINN, EDWARD', 'BAKER, GERALD', 'BUSH, GEORGE H.W.',\n",
       "       'DUKAKIS, MICHAEL', 'PAUL, RONALD \"\"RON\"\"', 'FULANI, LENORA',\n",
       "       'KENOYER, WILLA', 'WARREN, JAMES \"\"MAC\"\"', 'DUKE, DAVID',\n",
       "       'HERER, JACK', 'HERBERG G., LEWIN', 'MARRA, WILLIAM A.',\n",
       "       'YOUNGKEIT, LOUIE G.', 'CLINTON, BILL', 'PEROT, ROSS',\n",
       "       'MARROU, ANDRE', 'GRITZ, JAMES \"\"BO\"\"', 'HAGELIN, JOHN',\n",
       "       'PHILLIPS, HOWARD', 'DANIELS, RON', 'PROHIBITION', 'UNAFFILIATED',\n",
       "       'DANIELS, RONALD', 'BLANK VOTE/SCATTERING', 'YIAMOUYIANNIS, JOHN',\n",
       "       'BRISBEN, J. QUINN', 'HALYARD, HELEN', 'BRADFORD, DREW',\n",
       "       'HAYLARD, HELEN', 'LA RIVA, GLORIA ESTELLA', 'HEM, ROLAND',\n",
       "       'DOLE, ROBERT', 'BROWNE, HARRY', 'NADER, RALPH', 'FORBES, RALPH',\n",
       "       'COLLINS, CHARLES', 'MASTERS, ISABELL', 'MOOREHEAD, MONICA',\n",
       "       'HOLLIS, MARY CAL', 'FEINLAND, MARSHA', 'TEMPLIN, DIANE',\n",
       "       'HARRIS, JAMES', 'WHITE, JEROME \"\"JERRY\"\"', 'PERON, DENNIS',\n",
       "       'BIRRENBACK, JOHN', 'NONE OF THE ABOVE', 'CRANE, PETER',\n",
       "       'BUSH, GEORGE W.', 'GORE, AL', 'BUCHANAN, PATRICK \"\"PAT\"\"',\n",
       "       'L. NEIL, SMITH', 'NONE OF THESE CANDIDATES', 'BLANK VOTE',\n",
       "       'OVER VOTE', 'NOT DESIGNATED', 'DENNIS \"\"DENNY\"\", LANE',\n",
       "       'KERRY, JOHN', 'PEROUTKA, MICHAEL', 'BADNARIK, MICHAEL',\n",
       "       'COBB, DAVID', 'PELTIER, LEONARD', 'ANDRESS, STANFORD',\n",
       "       'AMONDSON, GENE', 'VAN AUKEN, BILL', 'CALERO, ROGER',\n",
       "       'BROWN, WALT', 'OTHERS', 'THE BETTER LIFE,', 'HARENS, THOMAS',\n",
       "       'INDEPENDENT PARTY CANDIDATE,', 'NONPARTISAN', 'WORKERS WORLD',\n",
       "       'JAY, CHARLES', 'PARKER, JOHN', 'MCCAIN, JOHN', 'OBAMA, BARACK H.',\n",
       "       'BALDWIN, CHARLES \"\"CHUCK\"\"', 'BARR, BOB', 'MCKINNEY, CYNTHIA',\n",
       "       'KEYES, ALAN', 'MCENULTY, FRANK', 'ALLEN, JONATHAN',\n",
       "       'STEVENS, THOMAS R.', 'MOORE, BRIAN', 'LYTTLE, BRADFORD',\n",
       "       'WEILL, TED', 'BOSS, JEFFERY', 'WAMBOLDT, JEFFREY', 'ROMNEY, MITT',\n",
       "       'JOHNSON, GARY', 'STEIN, JILL', 'BARR, ROSEANNE',\n",
       "       'HOEFLING, THOMAS CONRAD \"\"TOM\"\"', 'GOODE, VIRGIL HAMLIN, JR.',\n",
       "       'REED, JILL ANN', 'ANDERSON, ROSS CARL \"\"ROCKY\"\"',\n",
       "       'TITTLE, SHEILA \"\"SAMM\"\"', 'ALEXANDER, STEWART', 'MILLER, MERLIN',\n",
       "       'STEVENS, THOMAS ROBERT \"\"TOM\"\"', 'WHITE, JERRY', 'BARNETT, ANDRE',\n",
       "       'LINDSAY, PETA', 'TERRY, RANDALL',\n",
       "       'FELLURE, LOWELL JACKSON \"\"JACK\"\"', 'CARLSON, JIM',\n",
       "       'MORSTAD, DEAN', 'WASHER, BARBARA DALE',\n",
       "       'BLANK VOTE/VOID VOTE/SCATTERING', 'DUNCAN, RICHARD',\n",
       "       'CHRISTENSEN, WILL', 'MITT, ROMNEY', 'TRUMP, DONALD J.',\n",
       "       'CLINTON, HILLARY', 'CASTLE, DARRELL L.',\n",
       "       'DE LA FUENTE, ROQUE \"\"ROCKY\"\"', 'MCMULLIN, EVAN', 'HEDGES, JIM',\n",
       "       'KAHN, LYNN S.', 'KENISTON, CHRIS', 'KOPITKE, KYLE KENLEY',\n",
       "       'MALDONADO, JOSEPH ALLEN', 'MATUREN, MICHAEL A.', 'SILVA, ROD',\n",
       "       'HOEFLING, TOM', 'KENNEDY, ALYSON', 'KOTLIKOFF, LAURENCE',\n",
       "       'ATWOOD, FRANK', 'EMIDIO \"\"MIMI\"\", SOLTYSIK', 'HEDGES, JAMES',\n",
       "       'VACEK, DAN', 'VOID VOTE', 'SKEWES, PETER', 'BIDEN, JOSEPH R. JR',\n",
       "       'JORGENSEN, JO', 'PIERCE, BROCK',\n",
       "       'JANOS, JAMES G. \"JESSE VENTURA\"', 'BLANKENSHIP, DON',\n",
       "       'CUMMINGS, DANIEL CLYDE', 'SIMMONS, JADE', 'BODDIE, R. PRESIDENT',\n",
       "       'HAWKINS, HOWIE', 'CARROLL, BRIAN', 'GAMMON, C. L.', 'WEST, KANYE',\n",
       "       'COLLINS, PHIL', 'MYERS, JOHN RICHARD', 'MARK CHARLES',\n",
       "       'JOSEPH KISHORE', 'HAMMONS, BILL', 'HUBER, BLAKE', 'CHARLES, MARK',\n",
       "       'HUNTER, PHIL', 'JACOB?FAMBRO, PRINCESS KHADIJAH MARYAM',\n",
       "       'KISHORE, JOSEPH', 'MCHUGH, JOE', 'SCOTT, JORDAN \"CANCER\"',\n",
       "       'CELLA, TODD', 'KLOJZY, JEFFREY J.', 'WEINSTEIN, KARYNN KRILL',\n",
       "       'WELLS, KASEY', 'SIMMONS, MARY RUTH CARO', 'HOWARD, SHAWN W.',\n",
       "       'BELLAR, BARBARA', 'ROUSE, DEBORAH', 'BALL, DENNIS ANDREW',\n",
       "       'GIBSON, KATHRYN', 'WILLIAMS, MITCHELL',\n",
       "       'WALLS-WINDHAUSER, ANGELA', 'LABOCH, MICHAEL', 'BYRNE, DAVID',\n",
       "       'COLLINS, LOREN', 'SHERRILL, PETER', 'BLANK VOTES', 'OVERVOTES',\n",
       "       'FRANKLIN, CHRIS', 'FARNEY, JOHN', 'WILLIAMS JR., ANDY',\n",
       "       'MCKEE, KEVIN', 'STRUCK, JAMES TIMOTHY', 'HIGGS, JEREMY',\n",
       "       'MCCRAY, VALERIE', 'SCHRINER, JOE', 'JOHNSON JR. JAMES L.',\n",
       "       'STRIED, CHRISTOPHER', 'F, RANDALL', 'KING, RICKI SUE',\n",
       "       'UNDERVOTES', 'STEVENS, TIMOTHY ALLEN', 'JADE SIMMONS',\n",
       "       'SEGAL, JEROME M.', 'LEE, JOHNSON', 'RALEY, ALBERT',\n",
       "       'SCHAWLB, BENJAMIN', 'HUNTER, TARA RENEE', 'BUTTIGIEG, PETE',\n",
       "       'CUOMO, ANDREW', 'GABBARD, TULSI', 'HUCKABEE, MIKE',\n",
       "       'KASICH, JOHN', 'KLOBUCHAR, AMY', 'OBAMA, MICHELLE', 'PAUL, RON',\n",
       "       'PENCE, MIKE', 'RICE, CONDOLEEZA', 'SANDERS, BERNIE',\n",
       "       'SHAHEEN, JEANNE', 'SUNUNU, CHRIS', 'SUPREME, VERMIN',\n",
       "       'WELD, BILL', 'YANG, ANDREW', 'TITTLE, SHEILA \"SAMM\"',\n",
       "       'MANIMAS, JOHN', 'HODGES, PAUL', 'MARTIN, DAVID A.',\n",
       "       'HUNTER, DARIO', 'MONTANYE, RICHARD CHARLES', 'VOID',\n",
       "       'CUELLAR, JESSE', 'LOEB, ABRAM', 'MORROW, ROBERT',\n",
       "       'FORBES, KATHERINE', 'PAIGE, BROOKE H.', 'LAFONTAINE, CHRISTOPHER',\n",
       "       'SWING, GARY', 'MCCORMIC, KEITH', 'SCALF, ZACHARY'], dtype=object)"
      ]
     },
     "execution_count": 11,
     "metadata": {},
     "output_type": "execute_result"
    }
   ],
   "source": [
    "pd.Series.unique(pres_data['candidate'])"
   ]
  },
  {
   "cell_type": "code",
   "execution_count": null,
   "id": "55a409d4",
   "metadata": {},
   "outputs": [],
   "source": [
    "total_votes = pres_csv.groupby('year').sum('totalvotes')"
   ]
  }
 ],
 "metadata": {
  "kernelspec": {
   "display_name": "Python 3 (ipykernel)",
   "language": "python",
   "name": "python3"
  },
  "language_info": {
   "codemirror_mode": {
    "name": "ipython",
    "version": 3
   },
   "file_extension": ".py",
   "mimetype": "text/x-python",
   "name": "python",
   "nbconvert_exporter": "python",
   "pygments_lexer": "ipython3",
   "version": "3.9.13"
  }
 },
 "nbformat": 4,
 "nbformat_minor": 5
}
