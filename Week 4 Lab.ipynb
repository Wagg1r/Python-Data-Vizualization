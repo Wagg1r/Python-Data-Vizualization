{
 "cells": [
  {
   "cell_type": "code",
   "execution_count": 1,
   "id": "fb56faf2",
   "metadata": {},
   "outputs": [],
   "source": [
    "import pandas as pd\n",
    "import numpy as np\n",
    "import matplotlib.pyplot as plt\n",
    "\n",
    "pres_data = pd.read_csv('1976-2020-president.csv')"
   ]
  },
  {
   "cell_type": "code",
   "execution_count": 2,
   "id": "d9d15898",
   "metadata": {},
   "outputs": [
    {
     "name": "stdout",
     "output_type": "stream",
     "text": [
      "      year    state state_po  state_fips  state_cen  state_ic        office  \\\n",
      "0     1976  ALABAMA       AL           1         63        41  US PRESIDENT   \n",
      "1     1976  ALABAMA       AL           1         63        41  US PRESIDENT   \n",
      "2     1976  ALABAMA       AL           1         63        41  US PRESIDENT   \n",
      "3     1976  ALABAMA       AL           1         63        41  US PRESIDENT   \n",
      "4     1976  ALABAMA       AL           1         63        41  US PRESIDENT   \n",
      "...    ...      ...      ...         ...        ...       ...           ...   \n",
      "4282  2020  WYOMING       WY          56         83        68  US PRESIDENT   \n",
      "4283  2020  WYOMING       WY          56         83        68  US PRESIDENT   \n",
      "4284  2020  WYOMING       WY          56         83        68  US PRESIDENT   \n",
      "4285  2020  WYOMING       WY          56         83        68  US PRESIDENT   \n",
      "4286  2020  WYOMING       WY          56         83        68  US PRESIDENT   \n",
      "\n",
      "                    candidate              party_detailed writein  \\\n",
      "0               CARTER, JIMMY                    DEMOCRAT   False   \n",
      "1                FORD, GERALD                  REPUBLICAN   False   \n",
      "2              MADDOX, LESTER  AMERICAN INDEPENDENT PARTY   False   \n",
      "3     BUBAR, BENJAMIN \"\"BEN\"\"                 PROHIBITION   False   \n",
      "4                   HALL, GUS         COMMUNIST PARTY USE   False   \n",
      "...                       ...                         ...     ...   \n",
      "4282            JORGENSEN, JO                 LIBERTARIAN   False   \n",
      "4283            PIERCE, BROCK                 INDEPENDENT   False   \n",
      "4284                      NaN                         NaN    True   \n",
      "4285                OVERVOTES                         NaN   False   \n",
      "4286               UNDERVOTES                         NaN   False   \n",
      "\n",
      "      candidatevotes  totalvotes   version  notes party_simplified  \n",
      "0             659170     1182850  20210113    NaN         DEMOCRAT  \n",
      "1             504070     1182850  20210113    NaN       REPUBLICAN  \n",
      "2               9198     1182850  20210113    NaN            OTHER  \n",
      "3               6669     1182850  20210113    NaN            OTHER  \n",
      "4               1954     1182850  20210113    NaN            OTHER  \n",
      "...              ...         ...       ...    ...              ...  \n",
      "4282            5768      278503  20210113    NaN      LIBERTARIAN  \n",
      "4283            2208      278503  20210113    NaN            OTHER  \n",
      "4284            1739      278503  20210113    NaN            OTHER  \n",
      "4285             279      278503  20210113    NaN            OTHER  \n",
      "4286            1459      278503  20210113    NaN            OTHER  \n",
      "\n",
      "[4287 rows x 15 columns]\n"
     ]
    }
   ],
   "source": [
    "print(pres_data)"
   ]
  },
  {
   "cell_type": "markdown",
   "id": "be7eaf94",
   "metadata": {},
   "source": [
    "part 1.3\n",
    "canidatevotes is the canidates number of votes\n",
    "party_detailed tells the exact party the canidate was apart of and party_simplified will only give you four options democrat, republican, libertarian or other.\n"
   ]
  },
  {
   "cell_type": "code",
   "execution_count": 3,
   "id": "22a1b7ef",
   "metadata": {},
   "outputs": [
    {
     "data": {
      "text/plain": [
       "array(['CARTER, JIMMY', 'FORD, GERALD', 'MADDOX, LESTER',\n",
       "       'BUBAR, BENJAMIN \"\"BEN\"\"', 'HALL, GUS', 'MACBRIDE, ROGER', nan,\n",
       "       'MCCARTHY, EUGENE \"\"GENE\"\"', 'CAMEJO, PETER',\n",
       "       'ANDERSON, THOMAS J.', 'WRIGHT, MARGARET', 'LAROUCHE, LYNDON, JR.',\n",
       "       'SCATTERING', 'OTHER', 'JULIUS \"\"JULES\"\", LEVIN', 'ZEIDLER, FRANK',\n",
       "       'REAGAN, RONALD', 'ANDERSON, JOHN B.', 'RARICK, JOHN',\n",
       "       'CLARK, EDWARD \"\"ED\"\"', 'DEBERRY, CLIFTON', 'MCREYNOLDS, DAVID',\n",
       "       'COMMONER, BARRY', 'GRISWOLD, DEIRDRE', 'SMITH, MAUREEN',\n",
       "       'PULLEY, ANDREW', 'GREAVES, PERCY L, JR.', 'SHELTON, FRANK, JR.',\n",
       "       'MCCORMACK, ELLEN', 'LYNEN, KURT', 'GAHRES, WILLIAM \"\"BILL\"\"',\n",
       "       'WENDELKEN, MARTIN E.', 'MCLAIN, HARLEY', 'CONGRESS, RICHARD',\n",
       "       'MONDALE, WALTER', 'BERGLAND, DAVID', 'RICHARDS, BOB',\n",
       "       'MASON, MELVIN', 'SERRETTE, DENNIS', 'JOHNSON, SONIA',\n",
       "       'DODGE, EARL', 'LOWERY, ARTHUR', 'DENNIS, DELMAR', 'HOLMES, LARRY',\n",
       "       'WINN, EDWARD', 'BAKER, GERALD', 'BUSH, GEORGE H.W.',\n",
       "       'DUKAKIS, MICHAEL', 'PAUL, RONALD \"\"RON\"\"', 'FULANI, LENORA',\n",
       "       'KENOYER, WILLA', 'WARREN, JAMES \"\"MAC\"\"', 'DUKE, DAVID',\n",
       "       'HERER, JACK', 'HERBERG G., LEWIN', 'MARRA, WILLIAM A.',\n",
       "       'YOUNGKEIT, LOUIE G.', 'CLINTON, BILL', 'PEROT, ROSS',\n",
       "       'MARROU, ANDRE', 'GRITZ, JAMES \"\"BO\"\"', 'HAGELIN, JOHN',\n",
       "       'PHILLIPS, HOWARD', 'DANIELS, RON', 'PROHIBITION', 'UNAFFILIATED',\n",
       "       'DANIELS, RONALD', 'BLANK VOTE/SCATTERING', 'YIAMOUYIANNIS, JOHN',\n",
       "       'BRISBEN, J. QUINN', 'HALYARD, HELEN', 'BRADFORD, DREW',\n",
       "       'HAYLARD, HELEN', 'LA RIVA, GLORIA ESTELLA', 'HEM, ROLAND',\n",
       "       'DOLE, ROBERT', 'BROWNE, HARRY', 'NADER, RALPH', 'FORBES, RALPH',\n",
       "       'COLLINS, CHARLES', 'MASTERS, ISABELL', 'MOOREHEAD, MONICA',\n",
       "       'HOLLIS, MARY CAL', 'FEINLAND, MARSHA', 'TEMPLIN, DIANE',\n",
       "       'HARRIS, JAMES', 'WHITE, JEROME \"\"JERRY\"\"', 'PERON, DENNIS',\n",
       "       'BIRRENBACK, JOHN', 'NONE OF THE ABOVE', 'CRANE, PETER',\n",
       "       'BUSH, GEORGE W.', 'GORE, AL', 'BUCHANAN, PATRICK \"\"PAT\"\"',\n",
       "       'L. NEIL, SMITH', 'NONE OF THESE CANDIDATES', 'BLANK VOTE',\n",
       "       'OVER VOTE', 'NOT DESIGNATED', 'DENNIS \"\"DENNY\"\", LANE',\n",
       "       'KERRY, JOHN', 'PEROUTKA, MICHAEL', 'BADNARIK, MICHAEL',\n",
       "       'COBB, DAVID', 'PELTIER, LEONARD', 'ANDRESS, STANFORD',\n",
       "       'AMONDSON, GENE', 'VAN AUKEN, BILL', 'CALERO, ROGER',\n",
       "       'BROWN, WALT', 'OTHERS', 'THE BETTER LIFE,', 'HARENS, THOMAS',\n",
       "       'INDEPENDENT PARTY CANDIDATE,', 'NONPARTISAN', 'WORKERS WORLD',\n",
       "       'JAY, CHARLES', 'PARKER, JOHN', 'MCCAIN, JOHN', 'OBAMA, BARACK H.',\n",
       "       'BALDWIN, CHARLES \"\"CHUCK\"\"', 'BARR, BOB', 'MCKINNEY, CYNTHIA',\n",
       "       'KEYES, ALAN', 'MCENULTY, FRANK', 'ALLEN, JONATHAN',\n",
       "       'STEVENS, THOMAS R.', 'MOORE, BRIAN', 'LYTTLE, BRADFORD',\n",
       "       'WEILL, TED', 'BOSS, JEFFERY', 'WAMBOLDT, JEFFREY', 'ROMNEY, MITT',\n",
       "       'JOHNSON, GARY', 'STEIN, JILL', 'BARR, ROSEANNE',\n",
       "       'HOEFLING, THOMAS CONRAD \"\"TOM\"\"', 'GOODE, VIRGIL HAMLIN, JR.',\n",
       "       'REED, JILL ANN', 'ANDERSON, ROSS CARL \"\"ROCKY\"\"',\n",
       "       'TITTLE, SHEILA \"\"SAMM\"\"', 'ALEXANDER, STEWART', 'MILLER, MERLIN',\n",
       "       'STEVENS, THOMAS ROBERT \"\"TOM\"\"', 'WHITE, JERRY', 'BARNETT, ANDRE',\n",
       "       'LINDSAY, PETA', 'TERRY, RANDALL',\n",
       "       'FELLURE, LOWELL JACKSON \"\"JACK\"\"', 'CARLSON, JIM',\n",
       "       'MORSTAD, DEAN', 'WASHER, BARBARA DALE',\n",
       "       'BLANK VOTE/VOID VOTE/SCATTERING', 'DUNCAN, RICHARD',\n",
       "       'CHRISTENSEN, WILL', 'MITT, ROMNEY', 'TRUMP, DONALD J.',\n",
       "       'CLINTON, HILLARY', 'CASTLE, DARRELL L.',\n",
       "       'DE LA FUENTE, ROQUE \"\"ROCKY\"\"', 'MCMULLIN, EVAN', 'HEDGES, JIM',\n",
       "       'KAHN, LYNN S.', 'KENISTON, CHRIS', 'KOPITKE, KYLE KENLEY',\n",
       "       'MALDONADO, JOSEPH ALLEN', 'MATUREN, MICHAEL A.', 'SILVA, ROD',\n",
       "       'HOEFLING, TOM', 'KENNEDY, ALYSON', 'KOTLIKOFF, LAURENCE',\n",
       "       'ATWOOD, FRANK', 'EMIDIO \"\"MIMI\"\", SOLTYSIK', 'HEDGES, JAMES',\n",
       "       'VACEK, DAN', 'VOID VOTE', 'SKEWES, PETER', 'BIDEN, JOSEPH R. JR',\n",
       "       'JORGENSEN, JO', 'PIERCE, BROCK',\n",
       "       'JANOS, JAMES G. \"JESSE VENTURA\"', 'BLANKENSHIP, DON',\n",
       "       'CUMMINGS, DANIEL CLYDE', 'SIMMONS, JADE', 'BODDIE, R. PRESIDENT',\n",
       "       'HAWKINS, HOWIE', 'CARROLL, BRIAN', 'GAMMON, C. L.', 'WEST, KANYE',\n",
       "       'COLLINS, PHIL', 'MYERS, JOHN RICHARD', 'MARK CHARLES',\n",
       "       'JOSEPH KISHORE', 'HAMMONS, BILL', 'HUBER, BLAKE', 'CHARLES, MARK',\n",
       "       'HUNTER, PHIL', 'JACOB?FAMBRO, PRINCESS KHADIJAH MARYAM',\n",
       "       'KISHORE, JOSEPH', 'MCHUGH, JOE', 'SCOTT, JORDAN \"CANCER\"',\n",
       "       'CELLA, TODD', 'KLOJZY, JEFFREY J.', 'WEINSTEIN, KARYNN KRILL',\n",
       "       'WELLS, KASEY', 'SIMMONS, MARY RUTH CARO', 'HOWARD, SHAWN W.',\n",
       "       'BELLAR, BARBARA', 'ROUSE, DEBORAH', 'BALL, DENNIS ANDREW',\n",
       "       'GIBSON, KATHRYN', 'WILLIAMS, MITCHELL',\n",
       "       'WALLS-WINDHAUSER, ANGELA', 'LABOCH, MICHAEL', 'BYRNE, DAVID',\n",
       "       'COLLINS, LOREN', 'SHERRILL, PETER', 'BLANK VOTES', 'OVERVOTES',\n",
       "       'FRANKLIN, CHRIS', 'FARNEY, JOHN', 'WILLIAMS JR., ANDY',\n",
       "       'MCKEE, KEVIN', 'STRUCK, JAMES TIMOTHY', 'HIGGS, JEREMY',\n",
       "       'MCCRAY, VALERIE', 'SCHRINER, JOE', 'JOHNSON JR. JAMES L.',\n",
       "       'STRIED, CHRISTOPHER', 'F, RANDALL', 'KING, RICKI SUE',\n",
       "       'UNDERVOTES', 'STEVENS, TIMOTHY ALLEN', 'JADE SIMMONS',\n",
       "       'SEGAL, JEROME M.', 'LEE, JOHNSON', 'RALEY, ALBERT',\n",
       "       'SCHAWLB, BENJAMIN', 'HUNTER, TARA RENEE', 'BUTTIGIEG, PETE',\n",
       "       'CUOMO, ANDREW', 'GABBARD, TULSI', 'HUCKABEE, MIKE',\n",
       "       'KASICH, JOHN', 'KLOBUCHAR, AMY', 'OBAMA, MICHELLE', 'PAUL, RON',\n",
       "       'PENCE, MIKE', 'RICE, CONDOLEEZA', 'SANDERS, BERNIE',\n",
       "       'SHAHEEN, JEANNE', 'SUNUNU, CHRIS', 'SUPREME, VERMIN',\n",
       "       'WELD, BILL', 'YANG, ANDREW', 'TITTLE, SHEILA \"SAMM\"',\n",
       "       'MANIMAS, JOHN', 'HODGES, PAUL', 'MARTIN, DAVID A.',\n",
       "       'HUNTER, DARIO', 'MONTANYE, RICHARD CHARLES', 'VOID',\n",
       "       'CUELLAR, JESSE', 'LOEB, ABRAM', 'MORROW, ROBERT',\n",
       "       'FORBES, KATHERINE', 'PAIGE, BROOKE H.', 'LAFONTAINE, CHRISTOPHER',\n",
       "       'SWING, GARY', 'MCCORMIC, KEITH', 'SCALF, ZACHARY'], dtype=object)"
      ]
     },
     "execution_count": 3,
     "metadata": {},
     "output_type": "execute_result"
    }
   ],
   "source": [
    "pd.Series.unique(pres_data['candidate'])"
   ]
  },
  {
   "cell_type": "markdown",
   "id": "63576c36",
   "metadata": {},
   "source": [
    "## Part 2"
   ]
  },
  {
   "cell_type": "code",
   "execution_count": 4,
   "id": "1a22863a",
   "metadata": {},
   "outputs": [
    {
     "name": "stdout",
     "output_type": "stream",
     "text": [
      "158528503\n"
     ]
    }
   ],
   "source": [
    "#total_votes = pres_data.groupby('year').sum('totalvotes')\n",
    "#print(total_votes)\n",
    "votes2020 = pres_data.loc[pres_data['year']==2020]\n",
    "justvotes2020 = votes2020['candidatevotes'].sum()\n",
    "print(justvotes2020)"
   ]
  },
  {
   "cell_type": "code",
   "execution_count": 5,
   "id": "d56d7641",
   "metadata": {},
   "outputs": [
    {
     "name": "stdout",
     "output_type": "stream",
     "text": [
      "year\n",
      "1976     605944064\n",
      "1980     663902096\n",
      "1984     609936856\n",
      "1988     537099170\n",
      "1992     770486377\n",
      "1996     728343795\n",
      "2000     783441739\n",
      "2004     768259747\n",
      "2008     992684830\n",
      "2012     879479158\n",
      "2016     941573717\n",
      "2020    1865852281\n",
      "Name: totalvotes, dtype: int64\n"
     ]
    }
   ],
   "source": [
    "total_votes = pres_data.groupby('year').sum('totalvotes')\n",
    "total_votes = total_votes['totalvotes']\n",
    "print(total_votes)"
   ]
  },
  {
   "cell_type": "code",
   "execution_count": 6,
   "id": "f4c8ae4d",
   "metadata": {},
   "outputs": [
    {
     "data": {
      "text/plain": [
       "Text(0.5, 1.0, 'total votes by year')"
      ]
     },
     "execution_count": 6,
     "metadata": {},
     "output_type": "execute_result"
    },
    {
     "data": {
      "image/png": "[encoded data removed]",
      "text/plain": [
       "<Figure size 640x480 with 1 Axes>"
      ]
     },
     "metadata": {},
     "output_type": "display_data"
    }
   ],
   "source": [
    "total_votes.plot(y=\"candidate votes\")\n",
    "plt.ylabel(\"votes in hundred millions\")\n",
    "plt.xlabel(\"year\")\n",
    "plt.title(\"total votes by year\")"
   ]
  },
  {
   "cell_type": "markdown",
   "id": "46b7cbd0",
   "metadata": {},
   "source": [
    "part 2.3"
   ]
  },
  {
   "cell_type": "code",
   "execution_count": null,
   "id": "884ad7d8",
   "metadata": {},
   "outputs": [],
   "source": []
  },
  {
   "cell_type": "code",
   "execution_count": 7,
   "id": "ff64b422",
   "metadata": {},
   "outputs": [
    {
     "name": "stdout",
     "output_type": "stream",
     "text": [
      "[[2020.        3.315 ]\n",
      " [2016.        3.2294]\n",
      " [2012.        3.1383]\n",
      " [2008.        3.0409]\n",
      " [2004.        2.9281]\n",
      " [2000.        2.8216]\n",
      " [1996.        2.6939]\n",
      " [1992.        2.5951]\n",
      " [1988.        2.445 ]\n",
      " [1984.        2.3582]\n",
      " [1980.        2.2722]\n",
      " [1976.        2.1804]]\n"
     ]
    }
   ],
   "source": [
    "population2 =np.array([[2022,333.33],[2021,331.89],[2020,331.50],[2019,328.24],[2018,326.69],[2017,322.94],[2016,322.94],[2015,322.94],[2014,318.30],[2013,315.99],[2012,313.83],[2011,311.56],[2010,309.32],[2009,306.77],[2008,304.09],[2007,301.23],[2006,298.38],[2005,295.52],[2004,292.81],[2003,290.11],[2002,287.63],[2001,284.97],[2000,282.16],[1999,279.04],[1998,275.85],[1997,272.65],[1996,269.39],[1995,266.28],[1994,263.13],[1993,259.92],[1992,259.51],[1991,252.98],[1990,249.62],[1989,246.82],[1988,244.50],[1987,242.29],[1986,240.13],[1985,237.92],[1984,235.82],[1983,233.79],[1982,231.66],[1981,229.47],[1980,227.22],[1979,225.06],[1978,222.58],[1977,220.24],[1976,218.04],[1975,215.97]])\n",
    "population =np.array([[2020,3.3150],[2016,3.2294],[2012,3.1383],[2008,3.0409],[2004,2.9281],[2000,2.8216],[1996,2.6939],[1992,2.5951],[1988,2.4450],[1984,2.3582],[1980,2.2722],[1976,2.1804]])\n",
    "\n",
    "print(population)"
   ]
  },
  {
   "cell_type": "code",
   "execution_count": 8,
   "id": "897f9dc9",
   "metadata": {},
   "outputs": [
    {
     "name": "stdout",
     "output_type": "stream",
     "text": [
      "year\n",
      "1976    1.827886e+10\n",
      "1980    2.055806e+10\n",
      "1984    1.943526e+10\n",
      "1988    1.766251e+10\n",
      "1992    2.631353e+10\n",
      "1996    2.581315e+10\n",
      "2000    2.908206e+10\n",
      "2004    2.960424e+10\n",
      "2008    4.060061e+10\n",
      "2012    3.729451e+10\n",
      "2016    4.143886e+10\n",
      "2020    8.557385e+10\n",
      "Name: totalvotes, dtype: float64\n"
     ]
    }
   ],
   "source": [
    "percentage_voted = ( total_votes / population[:, 1]) * 100\n",
    "print(percentage_voted)"
   ]
  },
  {
   "cell_type": "code",
   "execution_count": 9,
   "id": "4fbd38b4",
   "metadata": {},
   "outputs": [
    {
     "data": {
      "text/plain": [
       "Text(0.5, 1.0, 'total percentage of votes by year')"
      ]
     },
     "execution_count": 9,
     "metadata": {},
     "output_type": "execute_result"
    },
    {
     "data": {
      "image/png": "[encoded data removed]",
      "text/plain": [
       "<Figure size 640x480 with 1 Axes>"
      ]
     },
     "metadata": {},
     "output_type": "display_data"
    }
   ],
   "source": [
    "percentage_voted.plot(y=\"percent votes\")\n",
    "plt.ylabel(\"votes in hundred millions\")\n",
    "plt.xlabel(\"year\")\n",
    "plt.title(\"total percentage of votes by year\")"
   ]
  },
  {
   "cell_type": "markdown",
   "id": "6bbd8b76",
   "metadata": {},
   "source": [
    "1988 was the lowest becuase of \"With a race that seemed less competitive than four years ago, television news spent less time covering it, and a thriving economy meant fewer people were driven to the polls by anger, as they were when George Bush was defeated for re-election.\"\n",
    "\n",
    "2020 was the highest because \"The hugely divisive nature of Trump’s candidacy (and presidency) had much to do with the turnout surge as voters – both those for and those against the 45th president – believed the stakes to be massively high\""
   ]
  },
  {
   "cell_type": "markdown",
   "id": "f13bf38d",
   "metadata": {},
   "source": [
    "Part 3"
   ]
  },
  {
   "cell_type": "code",
   "execution_count": 10,
   "id": "bd6117a9",
   "metadata": {},
   "outputs": [
    {
     "name": "stdout",
     "output_type": "stream",
     "text": [
      "Total Indiana Democrat Votes: 11970338\n",
      "Total Indiana Republican Votes: 15888945\n"
     ]
    }
   ],
   "source": [
    "ind = pres_data.loc[pres_data['state'] == \"INDIANA\"]\n",
    "indDem = ind.loc[ind['party_simplified'] == \"DEMOCRAT\"]\n",
    "indDemSum = indDem['candidatevotes'].sum()\n",
    "indDemtotal = indDem['totalvotes']\n",
    "\n",
    "indRep = ind.loc[ind['party_simplified'] == \"REPUBLICAN\"]\n",
    "indRepSum = indRep['candidatevotes'].sum()\n",
    "indReptotal = indRep['totalvotes']\n",
    "\n",
    "print(\"Total Indiana Democrat Votes:\", indDemSum)\n",
    "print(\"Total Indiana Republican Votes:\", indRepSum)"
   ]
  },
  {
   "cell_type": "code",
   "execution_count": 11,
   "id": "03491436",
   "metadata": {},
   "outputs": [
    {
     "data": {
      "text/plain": [
       "<AxesSubplot:xlabel='party_simplified'>"
      ]
     },
     "execution_count": 11,
     "metadata": {},
     "output_type": "execute_result"
    },
    {
     "data": {
      "image/png": "[encoded data removed]",
      "text/plain": [
       "<Figure size 640x480 with 1 Axes>"
      ]
     },
     "metadata": {},
     "output_type": "display_data"
    }
   ],
   "source": [
    "indyDemRep = pres_data[((pres_data['party_simplified']=='REPUBLICAN')|(pres_data['party_simplified']=='DEMOCRAT'))&(pres_data['state'] == 'INDIANA')]\n",
    "tripCol = indyDemRep[['party_simplified','totalvotes','state']]\n",
    "tripCol.groupby('party_simplified').sum().plot(kind = 'bar')"
   ]
  },
  {
   "cell_type": "markdown",
   "id": "365fbf84",
   "metadata": {},
   "source": [
    "Part 4"
   ]
  },
  {
   "cell_type": "code",
   "execution_count": 20,
   "id": "146efd13",
   "metadata": {},
   "outputs": [
    {
     "name": "stdout",
     "output_type": "stream",
     "text": [
      "      year                  candidate             party_detailed  \\\n",
      "1401  1992                PEROT, ROSS                INDEPENDENT   \n",
      "1782  1996                PEROT, ROSS               REFORM PARTY   \n",
      "428   1980          ANDERSON, JOHN B.                INDEPENDENT   \n",
      "3497  2016              JOHNSON, GARY                LIBERTARIAN   \n",
      "3926  2020              JORGENSEN, JO                LIBERTARIAN   \n",
      "3169  2012              JOHNSON, GARY                LIBERTARIAN   \n",
      "2833  2008                  BARR, BOB                LIBERTARIAN   \n",
      "429   1980       CLARK, EDWARD \"\"ED\"\"                LIBERTARIAN   \n",
      "2144  2000                        NaN                        NaN   \n",
      "2145  2000  BUCHANAN, PATRICK \"\"PAT\"\"                INDEPENDENT   \n",
      "1783  1996              BROWNE, HARRY                LIBERTARIAN   \n",
      "2499  2004          BADNARIK, MICHAEL                LIBERTARIAN   \n",
      "2146  2000              BROWNE, HARRY                LIBERTARIAN   \n",
      "81    1976        ANDERSON, THOMAS J.                   AMERICAN   \n",
      "1096  1988             FULANI, LENORA               NEW ALLIANCE   \n",
      "1402  1992              MARROU, ANDRE                LIBERTARIAN   \n",
      "780   1984             DENNIS, DELMAR                   AMERICAN   \n",
      "781   1984            BERGLAND, DAVID                LIBERTARIAN   \n",
      "3498  2016                        NaN                      GREEN   \n",
      "82    1976              CAMEJO, PETER          SOCIALIST WORKERS   \n",
      "430   1980            COMMONER, BARRY                   CITIZENS   \n",
      "431   1980      GREAVES, PERCY L, JR.                   AMERICAN   \n",
      "1403  1992             FULANI, LENORA               NEW ALLIANCE   \n",
      "83    1976      LAROUCHE, LYNDON, JR.                 U.S. LABOR   \n",
      "3499  2016         CASTLE, DARRELL L.         CONSTITUTION PARTY   \n",
      "1404  1992                        NaN                        NaN   \n",
      "1784  1996                        NaN                        NaN   \n",
      "2500  2004                      OTHER                        NaN   \n",
      "2834  2008                        NaN                        NaN   \n",
      "3170  2012                        NaN                        NaN   \n",
      "2835  2008               NADER, RALPH                INDEPENDENT   \n",
      "3927  2020             HAWKINS, HOWIE                      GREEN   \n",
      "432   1980                  HALL, GUS        COMMUNIST PARTY USE   \n",
      "3928  2020             CARROLL, BRIAN  AMERICAN SOLIDARITY PARTY   \n",
      "433   1980           DEBERRY, CLIFTON          SOCIALIST WORKERS   \n",
      "3500  2016                        NaN                INDEPENDENT   \n",
      "3501  2016  EMIDIO \"\"MIMI\"\", SOLTYSIK        SOCIALIST PARTY USA   \n",
      "3929  2020           HOWARD, SHAWN W.                        NaN   \n",
      "3930  2020            MCCRAY, VALERIE                        NaN   \n",
      "3931  2020              SCHRINER, JOE                        NaN   \n",
      "3932  2020       JOHNSON JR. JAMES L.                        NaN   \n",
      "3933  2020             ROUSE, DEBORAH                        NaN   \n",
      "3934  2020         WILLIAMS, MITCHELL                        NaN   \n",
      "3935  2020        STRIED, CHRISTOPHER                        NaN   \n",
      "3936  2020                 F, RANDALL                        NaN   \n",
      "3937  2020               WELLS, KASEY             NON-AFFILIATED   \n",
      "\n",
      "      candidatevotes  totalvotes  \n",
      "1401          455934     2305871  \n",
      "1782          224299     2135431  \n",
      "428           111639     2242033  \n",
      "3497          133993     2734958  \n",
      "3926           59232     3033118  \n",
      "3169           50111     2624534  \n",
      "2833           29257     2751054  \n",
      "429            19627     2242033  \n",
      "2144           18997     2199302  \n",
      "2145           16959     2199302  \n",
      "1783           15632     2135431  \n",
      "2499           18058     2468002  \n",
      "2146           15530     2199302  \n",
      "81             14048     2220362  \n",
      "1096           10215     2168621  \n",
      "1402            7936     2305871  \n",
      "780             7617     2233069  \n",
      "781             6741     2233069  \n",
      "3498            7841     2734958  \n",
      "82              5695     2220362  \n",
      "430             4852     2242033  \n",
      "431             4750     2242033  \n",
      "1403            2583     2305871  \n",
      "83              1947     2220362  \n",
      "3499            1937     2734958  \n",
      "1404            1623     2305871  \n",
      "1784            1383     2135431  \n",
      "2500            1495     2468002  \n",
      "2834            1201     2751054  \n",
      "3170             993     2624534  \n",
      "2835             909     2751054  \n",
      "3927             988     3033118  \n",
      "432              702     2242033  \n",
      "3928             893     3033118  \n",
      "433              610     2242033  \n",
      "3500             718     2734958  \n",
      "3501              57     2734958  \n",
      "3929              23     3033118  \n",
      "3930              17     3033118  \n",
      "3931              13     3033118  \n",
      "3932               5     3033118  \n",
      "3933               4     3033118  \n",
      "3934               4     3033118  \n",
      "3935               2     3033118  \n",
      "3936               1     3033118  \n",
      "3937               1     3033118  \n"
     ]
    }
   ],
   "source": [
    "pres_data['vote_share'] = pres_data['candidatevotes'] / pres_data['totalvotes'] * 100\n",
    "\n",
    "other_parties = pres_data[((pres_data['party_simplified'] != 'REPUBLICAN') &(pres_data['party_simplified'] != 'DEMOCRAT')) &(pres_data['state'] == 'INDIANA')]\n",
    "\n",
    "sorted_list = other_parties.sort_values('vote_share', ascending=False)\n",
    "\n",
    "final = sorted_list[['year', 'candidate', 'party_detailed', 'candidatevotes', 'totalvotes']]\n",
    "\n",
    "print(final)\n"
   ]
  },
  {
   "cell_type": "code",
   "execution_count": null,
   "id": "8bb9c468",
   "metadata": {},
   "outputs": [],
   "source": [
    "\n"
   ]
  },
  {
   "cell_type": "markdown",
   "id": "bac8fe28",
   "metadata": {},
   "source": [
    "I like gary johnson I've seen a viral clip of him being booed for defending drivers licenses at a libertarian convention. he also wants to simplify and reduce taxes. go garry!"
   ]
  }
 ],
 "metadata": {
  "kernelspec": {
   "display_name": "Python 3 (ipykernel)",
   "language": "python",
   "name": "python3"
  },
  "language_info": {
   "codemirror_mode": {
    "name": "ipython",
    "version": 3
   },
   "file_extension": ".py",
   "mimetype": "text/x-python",
   "name": "python",
   "nbconvert_exporter": "python",
   "pygments_lexer": "ipython3",
   "version": "3.9.13"
  }
 },
 "nbformat": 4,
 "nbformat_minor": 5
}
