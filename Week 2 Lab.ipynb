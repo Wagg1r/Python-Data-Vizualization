{
 "cells": [
  {
   "cell_type": "code",
   "execution_count": 1,
   "id": "6cc336e5",
   "metadata": {},
   "outputs": [],
   "source": [
    "import numpy as np"
   ]
  },
  {
   "cell_type": "markdown",
   "id": "d597454b",
   "metadata": {},
   "source": [
    "# Part 1"
   ]
  },
  {
   "cell_type": "markdown",
   "id": "208dfb46",
   "metadata": {},
   "source": [
    "## create a list"
   ]
  },
  {
   "cell_type": "code",
   "execution_count": 2,
   "id": "e44ed750",
   "metadata": {},
   "outputs": [
    {
     "name": "stdout",
     "output_type": "stream",
     "text": [
      "[ 4  8  2 10  6]\n"
     ]
    }
   ],
   "source": [
    "list = [4,8,2,10,6]\n",
    "arr = np.array(list)\n",
    "print (arr)"
   ]
  },
  {
   "cell_type": "markdown",
   "id": "20a53635",
   "metadata": {},
   "source": [
    "#### Create a numpy array with shape (100,) where all the values are one."
   ]
  },
  {
   "cell_type": "code",
   "execution_count": 3,
   "id": "59146a80",
   "metadata": {},
   "outputs": [
    {
     "name": "stdout",
     "output_type": "stream",
     "text": [
      "[0. 0. 0. 0. 0. 0. 0. 0. 0. 0. 0. 0. 0. 0. 0. 0. 0. 0. 0. 0. 0. 0. 0. 0.\n",
      " 0. 0. 0. 0. 0. 0. 0. 0. 0. 0. 0. 0. 0. 0. 0. 0. 0. 0. 0. 0. 0. 0. 0. 0.\n",
      " 0. 0. 0. 0. 0. 0. 0. 0. 0. 0. 0. 0. 0. 0. 0. 0. 0. 0. 0. 0. 0. 0. 0. 0.\n",
      " 0. 0. 0. 0. 0. 0. 0. 0. 0. 0. 0. 0. 0. 0. 0. 0. 0. 0. 0. 0. 0. 0. 0. 0.\n",
      " 0. 0. 0. 0.]\n"
     ]
    }
   ],
   "source": [
    "zero_array = np.zeros((100,))\n",
    "print (zero_array)"
   ]
  },
  {
   "cell_type": "markdown",
   "id": "dab3a9f5",
   "metadata": {},
   "source": [
    "##### Create a numpy array with shape (10,14) where all the values are zero and save it as arr."
   ]
  },
  {
   "cell_type": "code",
   "execution_count": 4,
   "id": "4549af0e",
   "metadata": {},
   "outputs": [
    {
     "name": "stdout",
     "output_type": "stream",
     "text": [
      "[[0. 0. 0. 0. 0. 0. 0. 0. 0. 0. 0. 0. 0. 0.]\n",
      " [0. 0. 0. 0. 0. 0. 0. 0. 0. 0. 0. 0. 0. 0.]\n",
      " [0. 0. 0. 0. 0. 0. 0. 0. 0. 0. 0. 0. 0. 0.]\n",
      " [0. 0. 0. 0. 0. 0. 0. 0. 0. 0. 0. 0. 0. 0.]\n",
      " [0. 0. 0. 0. 0. 0. 0. 0. 0. 0. 0. 0. 0. 0.]\n",
      " [0. 0. 0. 0. 0. 0. 0. 0. 0. 0. 0. 0. 0. 0.]\n",
      " [0. 0. 0. 0. 0. 0. 0. 0. 0. 0. 0. 0. 0. 0.]\n",
      " [0. 0. 0. 0. 0. 0. 0. 0. 0. 0. 0. 0. 0. 0.]\n",
      " [0. 0. 0. 0. 0. 0. 0. 0. 0. 0. 0. 0. 0. 0.]\n",
      " [0. 0. 0. 0. 0. 0. 0. 0. 0. 0. 0. 0. 0. 0.]]\n"
     ]
    }
   ],
   "source": [
    "arr = np.zeros((10,14))\n",
    "print (arr)"
   ]
  },
  {
   "cell_type": "markdown",
   "id": "d65e14b7",
   "metadata": {},
   "source": [
    "#### 5.Type the following code into a cell."
   ]
  },
  {
   "cell_type": "code",
   "execution_count": 5,
   "id": "01a72c99",
   "metadata": {},
   "outputs": [
    {
     "name": "stdout",
     "output_type": "stream",
     "text": [
      "[[0. 0. 0. 0. 0. 0. 0. 0. 0. 0. 0. 0. 0. 0.]\n",
      " [0. 0. 0. 0. 0. 0. 0. 0. 0. 0. 0. 0. 0. 0.]\n",
      " [0. 0. 0. 0. 0. 0. 0. 0. 0. 0. 0. 0. 0. 0.]\n",
      " [0. 0. 0. 0. 0. 0. 0. 0. 0. 0. 0. 0. 0. 0.]\n",
      " [0. 0. 0. 0. 0. 0. 0. 0. 0. 0. 0. 0. 0. 0.]\n",
      " [0. 0. 0. 0. 0. 0. 0. 0. 0. 0. 0. 0. 0. 0.]\n",
      " [0. 0. 0. 0. 0. 0. 0. 0. 0. 0. 0. 0. 0. 0.]\n",
      " [0. 0. 0. 0. 0. 0. 0. 0. 0. 0. 0. 0. 0. 0.]\n",
      " [0. 0. 0. 0. 0. 0. 0. 0. 0. 0. 0. 0. 0. 0.]\n",
      " [0. 0. 0. 0. 0. 0. 0. 0. 0. 0. 0. 0. 0. 0.]]\n",
      "[[1. 1. 1. 1. 1. 1. 1. 1. 1. 1. 1. 1. 1. 1.]\n",
      " [1. 1. 1. 1. 1. 1. 1. 1. 1. 1. 1. 1. 1. 1.]\n",
      " [1. 1. 1. 1. 1. 1. 1. 1. 1. 1. 1. 1. 1. 1.]\n",
      " [1. 1. 1. 1. 1. 1. 1. 1. 1. 1. 1. 1. 1. 1.]\n",
      " [1. 1. 1. 1. 1. 1. 1. 1. 1. 1. 1. 1. 1. 1.]\n",
      " [1. 1. 1. 1. 1. 1. 1. 1. 1. 1. 1. 1. 1. 1.]\n",
      " [1. 1. 1. 1. 1. 1. 1. 1. 1. 1. 1. 1. 1. 1.]\n",
      " [1. 1. 1. 1. 1. 1. 1. 1. 1. 1. 1. 1. 1. 1.]\n",
      " [1. 1. 1. 1. 1. 1. 1. 1. 1. 1. 1. 1. 1. 1.]\n",
      " [1. 1. 1. 1. 1. 1. 1. 1. 1. 1. 1. 1. 1. 1.]]\n",
      "[[0. 0. 0. 0. 0. 0. 0. 0. 0. 0. 0. 0. 0. 0.]\n",
      " [0. 0. 0. 0. 0. 0. 0. 0. 0. 0. 0. 0. 0. 0.]\n",
      " [0. 0. 0. 0. 0. 0. 0. 0. 0. 0. 0. 0. 0. 0.]\n",
      " [0. 0. 0. 0. 0. 0. 0. 0. 0. 0. 0. 0. 0. 0.]\n",
      " [0. 0. 0. 0. 0. 0. 0. 0. 0. 0. 0. 0. 0. 0.]\n",
      " [0. 0. 0. 0. 0. 0. 0. 0. 0. 0. 0. 0. 0. 0.]\n",
      " [0. 0. 0. 0. 0. 0. 0. 0. 0. 0. 0. 0. 0. 0.]\n",
      " [0. 0. 0. 0. 0. 0. 0. 0. 0. 0. 0. 0. 0. 0.]\n",
      " [0. 0. 0. 0. 0. 0. 0. 0. 0. 0. 0. 0. 0. 0.]\n",
      " [0. 0. 0. 0. 0. 0. 0. 0. 0. 0. 0. 0. 0. 0.]]\n",
      "[[1. 1. 1. 1. 1. 1. 1. 1. 1. 1. 1. 1. 1. 1.]\n",
      " [1. 1. 1. 1. 1. 1. 1. 1. 1. 1. 1. 1. 1. 1.]\n",
      " [1. 1. 1. 1. 1. 1. 1. 1. 1. 1. 1. 1. 1. 1.]\n",
      " [1. 1. 1. 1. 1. 1. 1. 1. 1. 1. 1. 1. 1. 1.]\n",
      " [1. 1. 1. 1. 1. 1. 1. 1. 1. 1. 1. 1. 1. 1.]\n",
      " [1. 1. 1. 1. 1. 1. 1. 1. 1. 1. 1. 1. 1. 1.]\n",
      " [1. 1. 1. 1. 1. 1. 1. 1. 1. 1. 1. 1. 1. 1.]\n",
      " [1. 1. 1. 1. 1. 1. 1. 1. 1. 1. 1. 1. 1. 1.]\n",
      " [1. 1. 1. 1. 1. 1. 1. 1. 1. 1. 1. 1. 1. 1.]\n",
      " [1. 1. 1. 1. 1. 1. 1. 1. 1. 1. 1. 1. 1. 1.]]\n",
      "[[0. 0. 0. 0. 0. 0. 0. 0. 0. 0. 0. 0. 0. 0.]\n",
      " [0. 0. 0. 0. 0. 0. 0. 0. 0. 0. 0. 0. 0. 0.]\n",
      " [0. 0. 0. 0. 0. 0. 0. 0. 0. 0. 0. 0. 0. 0.]\n",
      " [0. 0. 0. 0. 0. 0. 0. 0. 0. 0. 0. 0. 0. 0.]\n",
      " [0. 0. 0. 0. 0. 0. 0. 0. 0. 0. 0. 0. 0. 0.]\n",
      " [0. 0. 0. 0. 0. 0. 0. 0. 0. 0. 0. 0. 0. 0.]\n",
      " [0. 0. 0. 0. 0. 0. 0. 0. 0. 0. 0. 0. 0. 0.]\n",
      " [0. 0. 0. 0. 0. 0. 0. 0. 0. 0. 0. 0. 0. 0.]\n",
      " [0. 0. 0. 0. 0. 0. 0. 0. 0. 0. 0. 0. 0. 0.]\n",
      " [0. 0. 0. 0. 0. 0. 0. 0. 0. 0. 0. 0. 0. 0.]]\n"
     ]
    }
   ],
   "source": [
    "print(arr)\n",
    "print(arr + 1)\n",
    "print(arr)\n",
    "arr += 1\n",
    "print(arr)\n",
    "arr -= 1\n",
    "print(arr)"
   ]
  },
  {
   "cell_type": "markdown",
   "id": "da8a85ae",
   "metadata": {},
   "source": [
    "##### Which of these operations changed the underlying values in the array? Answer in the cell below using the markdown.\n",
    "\n",
    "arr += 1 changed the array and arr -=1 changed the actual values held in variable arr"
   ]
  },
  {
   "cell_type": "markdown",
   "id": "962c9ca4",
   "metadata": {},
   "source": [
    "##### 7"
   ]
  },
  {
   "cell_type": "code",
   "execution_count": 6,
   "id": "f62badbc",
   "metadata": {},
   "outputs": [
    {
     "name": "stdout",
     "output_type": "stream",
     "text": [
      "[[0. 0. 0. 0. 0. 0. 0. 0. 0. 0. 0. 0. 0. 0.]\n",
      " [0. 0. 0. 0. 0. 0. 0. 0. 0. 0. 0. 0. 0. 0.]\n",
      " [0. 0. 0. 0. 0. 0. 0. 0. 0. 0. 0. 0. 0. 0.]\n",
      " [0. 0. 0. 0. 0. 8. 0. 0. 8. 0. 0. 0. 0. 0.]\n",
      " [0. 0. 0. 0. 0. 0. 0. 0. 0. 0. 0. 0. 0. 0.]\n",
      " [0. 0. 0. 0. 0. 0. 0. 0. 0. 0. 0. 0. 0. 0.]\n",
      " [0. 0. 0. 0. 0. 0. 0. 0. 0. 0. 0. 0. 0. 0.]\n",
      " [0. 0. 0. 0. 0. 0. 0. 0. 0. 0. 0. 0. 0. 0.]\n",
      " [0. 0. 0. 0. 0. 0. 0. 0. 0. 0. 0. 0. 0. 0.]\n",
      " [0. 0. 0. 0. 0. 0. 0. 0. 0. 0. 0. 0. 0. 0.]]\n"
     ]
    }
   ],
   "source": [
    "arr[3,5]=8\n",
    "arr[3,8]=8\n",
    "print(arr)"
   ]
  },
  {
   "cell_type": "code",
   "execution_count": 7,
   "id": "0cb67170",
   "metadata": {
    "scrolled": true
   },
   "outputs": [
    {
     "name": "stdout",
     "output_type": "stream",
     "text": [
      "[[0. 0. 0. 0. 0. 0. 0. 0. 0. 0. 0. 0. 0. 0.]\n",
      " [0. 0. 0. 0. 0. 0. 0. 0. 0. 0. 0. 0. 0. 0.]\n",
      " [0. 0. 0. 0. 0. 0. 0. 0. 0. 0. 0. 0. 0. 0.]\n",
      " [0. 0. 0. 0. 0. 8. 0. 0. 8. 0. 0. 0. 0. 0.]\n",
      " [0. 0. 0. 0. 0. 0. 0. 0. 0. 0. 0. 0. 0. 0.]\n",
      " [0. 0. 0. 0. 0. 0. 0. 0. 0. 0. 0. 0. 0. 0.]\n",
      " [0. 0. 0. 0. 2. 2. 2. 2. 2. 2. 0. 0. 0. 0.]\n",
      " [0. 0. 0. 0. 0. 0. 0. 0. 0. 0. 0. 0. 0. 0.]\n",
      " [0. 0. 0. 0. 0. 0. 0. 0. 0. 0. 0. 0. 0. 0.]\n",
      " [0. 0. 0. 0. 0. 0. 0. 0. 0. 0. 0. 0. 0. 0.]]\n"
     ]
    }
   ],
   "source": [
    "arr[6,4:10]=2\n",
    "print(arr)"
   ]
  },
  {
   "cell_type": "code",
   "execution_count": 8,
   "id": "0a50129b",
   "metadata": {},
   "outputs": [
    {
     "name": "stdout",
     "output_type": "stream",
     "text": [
      "[[0. 8. 0. 0. 8. 0.]\n",
      " [0. 0. 0. 0. 0. 0.]\n",
      " [0. 0. 0. 0. 0. 0.]\n",
      " [2. 2. 2. 2. 2. 2.]]\n"
     ]
    }
   ],
   "source": [
    "arr1 =arr[3:7,4:10]\n",
    "print(arr1)"
   ]
  },
  {
   "cell_type": "markdown",
   "id": "7e244c0d",
   "metadata": {},
   "source": [
    "# part 2"
   ]
  },
  {
   "cell_type": "code",
   "execution_count": 9,
   "id": "069179f7",
   "metadata": {},
   "outputs": [
    {
     "name": "stdout",
     "output_type": "stream",
     "text": [
      "(array([3, 3, 6, 6, 6, 6, 6, 6], dtype=int64), array([5, 8, 4, 5, 6, 7, 8, 9], dtype=int64))\n"
     ]
    }
   ],
   "source": [
    "print(np.nonzero(arr))\n",
    "print(np.nonzero(arr1))"
   ]
  },
  {
   "cell_type": "markdown",
   "id": "eb5838c9",
   "metadata": {},
   "source": [
    "##### 2.1 non-zero shows you the indexes of where a non-zero value is. so as long as there is anything besides a 0 it will show  you where that value is"
   ]
  },
  {
   "cell_type": "markdown",
   "id": "96263b92",
   "metadata": {},
   "source": [
    "2.2  find the indices of an array, where a condition is True"
   ]
  },
  {
   "cell_type": "markdown",
   "id": "24f8def9",
   "metadata": {},
   "source": [
    "2.3"
   ]
  },
  {
   "cell_type": "code",
   "execution_count": 14,
   "id": "3c1f543e",
   "metadata": {},
   "outputs": [
    {
     "name": "stdout",
     "output_type": "stream",
     "text": [
      "[[0. 0. 0. 0. 0. 0. 0. 0. 7. 0. 0. 0. 0. 0.]\n",
      " [0. 0. 0. 0. 0. 0. 0. 0. 7. 0. 0. 0. 0. 0.]\n",
      " [0. 0. 7. 0. 0. 0. 0. 0. 0. 0. 0. 0. 0. 0.]\n",
      " [0. 0. 7. 0. 0. 0. 0. 0. 0. 0. 0. 0. 0. 0.]\n",
      " [0. 0. 7. 0. 0. 0. 0. 0. 0. 0. 0. 0. 0. 0.]\n",
      " [0. 0. 7. 0. 0. 0. 0. 0. 0. 0. 0. 0. 0. 0.]\n",
      " [0. 0. 7. 0. 0. 0. 0. 0. 0. 0. 0. 0. 0. 0.]\n",
      " [0. 0. 7. 0. 0. 0. 0. 0. 0. 0. 0. 0. 0. 0.]\n",
      " [0. 0. 0. 0. 0. 0. 0. 0. 0. 0. 0. 0. 0. 0.]\n",
      " [0. 0. 0. 0. 0. 0. 0. 0. 0. 0. 0. 0. 0. 0.]]\n",
      "(array([0, 1, 2, 3, 4, 5, 6, 7], dtype=int64), array([8, 8, 2, 2, 2, 2, 2, 2], dtype=int64))\n"
     ]
    }
   ],
   "source": [
    "arr = np.zeros((10,14))\n",
    "arr[0,8]=7\n",
    "arr[1,8]=7\n",
    "arr[2,2]=7\n",
    "arr[3,2]=7\n",
    "arr[4,2]=7\n",
    "arr[5,2]=7\n",
    "arr[6,2]=7\n",
    "arr[7,2]=7\n",
    "print(arr)\n",
    "print(np.nonzero(arr))"
   ]
  },
  {
   "cell_type": "markdown",
   "id": "69b8e621",
   "metadata": {},
   "source": [
    "2.4 Returns an array with axes transposed\n",
    "2.5 it will change the order and the shape of the array\n",
    "this prediction was somewhat correct i did not predict how it would change the values but i did get the reshaping correct."
   ]
  },
  {
   "cell_type": "code",
   "execution_count": 16,
   "id": "42dbe5e3",
   "metadata": {},
   "outputs": [
    {
     "name": "stdout",
     "output_type": "stream",
     "text": [
      "[[0 0 0 1 1 1]\n",
      " [4 4 4 5 5 5]]\n",
      "[[0 4]\n",
      " [0 4]\n",
      " [0 4]\n",
      " [1 5]\n",
      " [1 5]\n",
      " [1 5]]\n",
      "[[0 4]\n",
      " [0 4]\n",
      " [0 4]\n",
      " [1 5]\n",
      " [1 5]\n",
      " [1 5]]\n"
     ]
    }
   ],
   "source": [
    "long_arr = np.array([[0,0,0,1,1,1],[4,4,4,5,5,5]])\n",
    "print(long_arr)\n",
    "print(np.transpose(long_arr))\n",
    "print(long_arr.T)"
   ]
  },
  {
   "cell_type": "markdown",
   "id": "9dd4b05a",
   "metadata": {},
   "source": [
    "## part 4"
   ]
  },
  {
   "cell_type": "code",
   "execution_count": 17,
   "id": "c6af6fc2",
   "metadata": {},
   "outputs": [],
   "source": [
    "import pandas as pd\n",
    "import numpy as np\n",
    "import matplotlib as ml\n"
   ]
  },
  {
   "cell_type": "code",
   "execution_count": 20,
   "id": "76852ec9",
   "metadata": {},
   "outputs": [
    {
     "name": "stdout",
     "output_type": "stream",
     "text": [
      "      year    state state_po  state_fips  state_cen  state_ic        office  \\\n",
      "0     1976  ALABAMA       AL           1         63        41  US PRESIDENT   \n",
      "1     1976  ALABAMA       AL           1         63        41  US PRESIDENT   \n",
      "2     1976  ALABAMA       AL           1         63        41  US PRESIDENT   \n",
      "3     1976  ALABAMA       AL           1         63        41  US PRESIDENT   \n",
      "4     1976  ALABAMA       AL           1         63        41  US PRESIDENT   \n",
      "...    ...      ...      ...         ...        ...       ...           ...   \n",
      "4282  2020  WYOMING       WY          56         83        68  US PRESIDENT   \n",
      "4283  2020  WYOMING       WY          56         83        68  US PRESIDENT   \n",
      "4284  2020  WYOMING       WY          56         83        68  US PRESIDENT   \n",
      "4285  2020  WYOMING       WY          56         83        68  US PRESIDENT   \n",
      "4286  2020  WYOMING       WY          56         83        68  US PRESIDENT   \n",
      "\n",
      "                    candidate              party_detailed writein  \\\n",
      "0               CARTER, JIMMY                    DEMOCRAT   False   \n",
      "1                FORD, GERALD                  REPUBLICAN   False   \n",
      "2              MADDOX, LESTER  AMERICAN INDEPENDENT PARTY   False   \n",
      "3     BUBAR, BENJAMIN \"\"BEN\"\"                 PROHIBITION   False   \n",
      "4                   HALL, GUS         COMMUNIST PARTY USE   False   \n",
      "...                       ...                         ...     ...   \n",
      "4282            JORGENSEN, JO                 LIBERTARIAN   False   \n",
      "4283            PIERCE, BROCK                 INDEPENDENT   False   \n",
      "4284                      NaN                         NaN    True   \n",
      "4285                OVERVOTES                         NaN   False   \n",
      "4286               UNDERVOTES                         NaN   False   \n",
      "\n",
      "      candidatevotes  totalvotes   version  notes party_simplified  \n",
      "0             659170     1182850  20210113    NaN         DEMOCRAT  \n",
      "1             504070     1182850  20210113    NaN       REPUBLICAN  \n",
      "2               9198     1182850  20210113    NaN            OTHER  \n",
      "3               6669     1182850  20210113    NaN            OTHER  \n",
      "4               1954     1182850  20210113    NaN            OTHER  \n",
      "...              ...         ...       ...    ...              ...  \n",
      "4282            5768      278503  20210113    NaN      LIBERTARIAN  \n",
      "4283            2208      278503  20210113    NaN            OTHER  \n",
      "4284            1739      278503  20210113    NaN            OTHER  \n",
      "4285             279      278503  20210113    NaN            OTHER  \n",
      "4286            1459      278503  20210113    NaN            OTHER  \n",
      "\n",
      "[4287 rows x 15 columns]\n"
     ]
    }
   ],
   "source": [
    "pres_csv = pd.read_csv(\"1976-2020-president.csv\")\n",
    "print(pres_csv)"
   ]
  },
  {
   "cell_type": "markdown",
   "id": "7ca134ab",
   "metadata": {},
   "source": [
    "the canidate votes are in the 10th column\n",
    "the difference between the columns is that party_detailed has specific party details and party simplified has only 4 options Democrat, republican, libertarian or other"
   ]
  },
  {
   "cell_type": "code",
   "execution_count": 27,
   "id": "85751957",
   "metadata": {},
   "outputs": [
    {
     "name": "stdout",
     "output_type": "stream",
     "text": [
      "['CARTER, JIMMY' 'FORD, GERALD' 'MADDOX, LESTER' 'BUBAR, BENJAMIN \"\"BEN\"\"'\n",
      " 'HALL, GUS' 'MACBRIDE, ROGER' nan 'MCCARTHY, EUGENE \"\"GENE\"\"'\n",
      " 'CAMEJO, PETER' 'ANDERSON, THOMAS J.' 'WRIGHT, MARGARET'\n",
      " 'LAROUCHE, LYNDON, JR.' 'SCATTERING' 'OTHER' 'JULIUS \"\"JULES\"\", LEVIN'\n",
      " 'ZEIDLER, FRANK' 'REAGAN, RONALD' 'ANDERSON, JOHN B.' 'RARICK, JOHN'\n",
      " 'CLARK, EDWARD \"\"ED\"\"' 'DEBERRY, CLIFTON' 'MCREYNOLDS, DAVID'\n",
      " 'COMMONER, BARRY' 'GRISWOLD, DEIRDRE' 'SMITH, MAUREEN' 'PULLEY, ANDREW'\n",
      " 'GREAVES, PERCY L, JR.' 'SHELTON, FRANK, JR.' 'MCCORMACK, ELLEN'\n",
      " 'LYNEN, KURT' 'GAHRES, WILLIAM \"\"BILL\"\"' 'WENDELKEN, MARTIN E.'\n",
      " 'MCLAIN, HARLEY' 'CONGRESS, RICHARD' 'MONDALE, WALTER' 'BERGLAND, DAVID'\n",
      " 'RICHARDS, BOB' 'MASON, MELVIN' 'SERRETTE, DENNIS' 'JOHNSON, SONIA'\n",
      " 'DODGE, EARL' 'LOWERY, ARTHUR' 'DENNIS, DELMAR' 'HOLMES, LARRY'\n",
      " 'WINN, EDWARD' 'BAKER, GERALD' 'BUSH, GEORGE H.W.' 'DUKAKIS, MICHAEL'\n",
      " 'PAUL, RONALD \"\"RON\"\"' 'FULANI, LENORA' 'KENOYER, WILLA'\n",
      " 'WARREN, JAMES \"\"MAC\"\"' 'DUKE, DAVID' 'HERER, JACK' 'HERBERG G., LEWIN'\n",
      " 'MARRA, WILLIAM A.' 'YOUNGKEIT, LOUIE G.' 'CLINTON, BILL' 'PEROT, ROSS'\n",
      " 'MARROU, ANDRE' 'GRITZ, JAMES \"\"BO\"\"' 'HAGELIN, JOHN' 'PHILLIPS, HOWARD'\n",
      " 'DANIELS, RON' 'PROHIBITION' 'UNAFFILIATED' 'DANIELS, RONALD'\n",
      " 'BLANK VOTE/SCATTERING' 'YIAMOUYIANNIS, JOHN' 'BRISBEN, J. QUINN'\n",
      " 'HALYARD, HELEN' 'BRADFORD, DREW' 'HAYLARD, HELEN'\n",
      " 'LA RIVA, GLORIA ESTELLA' 'HEM, ROLAND' 'DOLE, ROBERT' 'BROWNE, HARRY'\n",
      " 'NADER, RALPH' 'FORBES, RALPH' 'COLLINS, CHARLES' 'MASTERS, ISABELL'\n",
      " 'MOOREHEAD, MONICA' 'HOLLIS, MARY CAL' 'FEINLAND, MARSHA'\n",
      " 'TEMPLIN, DIANE' 'HARRIS, JAMES' 'WHITE, JEROME \"\"JERRY\"\"'\n",
      " 'PERON, DENNIS' 'BIRRENBACK, JOHN' 'NONE OF THE ABOVE' 'CRANE, PETER'\n",
      " 'BUSH, GEORGE W.' 'GORE, AL' 'BUCHANAN, PATRICK \"\"PAT\"\"' 'L. NEIL, SMITH'\n",
      " 'NONE OF THESE CANDIDATES' 'BLANK VOTE' 'OVER VOTE' 'NOT DESIGNATED'\n",
      " 'DENNIS \"\"DENNY\"\", LANE' 'KERRY, JOHN' 'PEROUTKA, MICHAEL'\n",
      " 'BADNARIK, MICHAEL' 'COBB, DAVID' 'PELTIER, LEONARD' 'ANDRESS, STANFORD'\n",
      " 'AMONDSON, GENE' 'VAN AUKEN, BILL' 'CALERO, ROGER' 'BROWN, WALT' 'OTHERS'\n",
      " 'THE BETTER LIFE,' 'HARENS, THOMAS' 'INDEPENDENT PARTY CANDIDATE,'\n",
      " 'NONPARTISAN' 'WORKERS WORLD' 'JAY, CHARLES' 'PARKER, JOHN'\n",
      " 'MCCAIN, JOHN' 'OBAMA, BARACK H.' 'BALDWIN, CHARLES \"\"CHUCK\"\"'\n",
      " 'BARR, BOB' 'MCKINNEY, CYNTHIA' 'KEYES, ALAN' 'MCENULTY, FRANK'\n",
      " 'ALLEN, JONATHAN' 'STEVENS, THOMAS R.' 'MOORE, BRIAN' 'LYTTLE, BRADFORD'\n",
      " 'WEILL, TED' 'BOSS, JEFFERY' 'WAMBOLDT, JEFFREY' 'ROMNEY, MITT'\n",
      " 'JOHNSON, GARY' 'STEIN, JILL' 'BARR, ROSEANNE'\n",
      " 'HOEFLING, THOMAS CONRAD \"\"TOM\"\"' 'GOODE, VIRGIL HAMLIN, JR.'\n",
      " 'REED, JILL ANN' 'ANDERSON, ROSS CARL \"\"ROCKY\"\"'\n",
      " 'TITTLE, SHEILA \"\"SAMM\"\"' 'ALEXANDER, STEWART' 'MILLER, MERLIN'\n",
      " 'STEVENS, THOMAS ROBERT \"\"TOM\"\"' 'WHITE, JERRY' 'BARNETT, ANDRE'\n",
      " 'LINDSAY, PETA' 'TERRY, RANDALL' 'FELLURE, LOWELL JACKSON \"\"JACK\"\"'\n",
      " 'CARLSON, JIM' 'MORSTAD, DEAN' 'WASHER, BARBARA DALE'\n",
      " 'BLANK VOTE/VOID VOTE/SCATTERING' 'DUNCAN, RICHARD' 'CHRISTENSEN, WILL'\n",
      " 'MITT, ROMNEY' 'TRUMP, DONALD J.' 'CLINTON, HILLARY' 'CASTLE, DARRELL L.'\n",
      " 'DE LA FUENTE, ROQUE \"\"ROCKY\"\"' 'MCMULLIN, EVAN' 'HEDGES, JIM'\n",
      " 'KAHN, LYNN S.' 'KENISTON, CHRIS' 'KOPITKE, KYLE KENLEY'\n",
      " 'MALDONADO, JOSEPH ALLEN' 'MATUREN, MICHAEL A.' 'SILVA, ROD'\n",
      " 'HOEFLING, TOM' 'KENNEDY, ALYSON' 'KOTLIKOFF, LAURENCE' 'ATWOOD, FRANK'\n",
      " 'EMIDIO \"\"MIMI\"\", SOLTYSIK' 'HEDGES, JAMES' 'VACEK, DAN' 'VOID VOTE'\n",
      " 'SKEWES, PETER' 'BIDEN, JOSEPH R. JR' 'JORGENSEN, JO' 'PIERCE, BROCK'\n",
      " 'JANOS, JAMES G. \"JESSE VENTURA\"' 'BLANKENSHIP, DON'\n",
      " 'CUMMINGS, DANIEL CLYDE' 'SIMMONS, JADE' 'BODDIE, R. PRESIDENT'\n",
      " 'HAWKINS, HOWIE' 'CARROLL, BRIAN' 'GAMMON, C. L.' 'WEST, KANYE'\n",
      " 'COLLINS, PHIL' 'MYERS, JOHN RICHARD' 'MARK CHARLES' 'JOSEPH KISHORE'\n",
      " 'HAMMONS, BILL' 'HUBER, BLAKE' 'CHARLES, MARK' 'HUNTER, PHIL'\n",
      " 'JACOB?FAMBRO, PRINCESS KHADIJAH MARYAM' 'KISHORE, JOSEPH' 'MCHUGH, JOE'\n",
      " 'SCOTT, JORDAN \"CANCER\"' 'CELLA, TODD' 'KLOJZY, JEFFREY J.'\n",
      " 'WEINSTEIN, KARYNN KRILL' 'WELLS, KASEY' 'SIMMONS, MARY RUTH CARO'\n",
      " 'HOWARD, SHAWN W.' 'BELLAR, BARBARA' 'ROUSE, DEBORAH'\n",
      " 'BALL, DENNIS ANDREW' 'GIBSON, KATHRYN' 'WILLIAMS, MITCHELL'\n",
      " 'WALLS-WINDHAUSER, ANGELA' 'LABOCH, MICHAEL' 'BYRNE, DAVID'\n",
      " 'COLLINS, LOREN' 'SHERRILL, PETER' 'BLANK VOTES' 'OVERVOTES'\n",
      " 'FRANKLIN, CHRIS' 'FARNEY, JOHN' 'WILLIAMS JR., ANDY' 'MCKEE, KEVIN'\n",
      " 'STRUCK, JAMES TIMOTHY' 'HIGGS, JEREMY' 'MCCRAY, VALERIE' 'SCHRINER, JOE'\n",
      " 'JOHNSON JR. JAMES L.' 'STRIED, CHRISTOPHER' 'F, RANDALL'\n",
      " 'KING, RICKI SUE' 'UNDERVOTES' 'STEVENS, TIMOTHY ALLEN' 'JADE SIMMONS'\n",
      " 'SEGAL, JEROME M.' 'LEE, JOHNSON' 'RALEY, ALBERT' 'SCHAWLB, BENJAMIN'\n",
      " 'HUNTER, TARA RENEE' 'BUTTIGIEG, PETE' 'CUOMO, ANDREW' 'GABBARD, TULSI'\n",
      " 'HUCKABEE, MIKE' 'KASICH, JOHN' 'KLOBUCHAR, AMY' 'OBAMA, MICHELLE'\n",
      " 'PAUL, RON' 'PENCE, MIKE' 'RICE, CONDOLEEZA' 'SANDERS, BERNIE'\n",
      " 'SHAHEEN, JEANNE' 'SUNUNU, CHRIS' 'SUPREME, VERMIN' 'WELD, BILL'\n",
      " 'YANG, ANDREW' 'TITTLE, SHEILA \"SAMM\"' 'MANIMAS, JOHN' 'HODGES, PAUL'\n",
      " 'MARTIN, DAVID A.' 'HUNTER, DARIO' 'MONTANYE, RICHARD CHARLES' 'VOID'\n",
      " 'CUELLAR, JESSE' 'LOEB, ABRAM' 'MORROW, ROBERT' 'FORBES, KATHERINE'\n",
      " 'PAIGE, BROOKE H.' 'LAFONTAINE, CHRISTOPHER' 'SWING, GARY'\n",
      " 'MCCORMIC, KEITH' 'SCALF, ZACHARY']\n"
     ]
    }
   ],
   "source": [
    "num_pres = pd.Series(pres_csv['candidate']).unique()\n",
    "print (num_pres)"
   ]
  },
  {
   "cell_type": "code",
   "execution_count": 32,
   "id": "6dc047c3",
   "metadata": {},
   "outputs": [
    {
     "name": "stdout",
     "output_type": "stream",
     "text": [
      "271\n"
     ]
    }
   ],
   "source": [
    "print(len(num_pres))"
   ]
  },
  {
   "cell_type": "code",
   "execution_count": 43,
   "id": "44d6990e",
   "metadata": {},
   "outputs": [
    {
     "data": {
      "text/html": [
       "<div>\n",
       "<style scoped>\n",
       "    .dataframe tbody tr th:only-of-type {\n",
       "        vertical-align: middle;\n",
       "    }\n",
       "\n",
       "    .dataframe tbody tr th {\n",
       "        vertical-align: top;\n",
       "    }\n",
       "\n",
       "    .dataframe thead th {\n",
       "        text-align: right;\n",
       "    }\n",
       "</style>\n",
       "<table border=\"1\" class=\"dataframe\">\n",
       "  <thead>\n",
       "    <tr style=\"text-align: right;\">\n",
       "      <th></th>\n",
       "      <th>year</th>\n",
       "      <th>state</th>\n",
       "      <th>state_po</th>\n",
       "      <th>state_fips</th>\n",
       "      <th>state_cen</th>\n",
       "      <th>state_ic</th>\n",
       "      <th>office</th>\n",
       "      <th>candidate</th>\n",
       "      <th>party_detailed</th>\n",
       "      <th>writein</th>\n",
       "      <th>candidatevotes</th>\n",
       "      <th>totalvotes</th>\n",
       "      <th>version</th>\n",
       "      <th>notes</th>\n",
       "      <th>party_simplified</th>\n",
       "    </tr>\n",
       "  </thead>\n",
       "  <tbody>\n",
       "    <tr>\n",
       "      <th>3740</th>\n",
       "      <td>2020</td>\n",
       "      <td>ALABAMA</td>\n",
       "      <td>AL</td>\n",
       "      <td>1</td>\n",
       "      <td>63</td>\n",
       "      <td>41</td>\n",
       "      <td>US PRESIDENT</td>\n",
       "      <td>BIDEN, JOSEPH R. JR</td>\n",
       "      <td>DEMOCRAT</td>\n",
       "      <td>False</td>\n",
       "      <td>849624</td>\n",
       "      <td>2323282</td>\n",
       "      <td>20210113</td>\n",
       "      <td>NaN</td>\n",
       "      <td>DEMOCRAT</td>\n",
       "    </tr>\n",
       "    <tr>\n",
       "      <th>3741</th>\n",
       "      <td>2020</td>\n",
       "      <td>ALABAMA</td>\n",
       "      <td>AL</td>\n",
       "      <td>1</td>\n",
       "      <td>63</td>\n",
       "      <td>41</td>\n",
       "      <td>US PRESIDENT</td>\n",
       "      <td>TRUMP, DONALD J.</td>\n",
       "      <td>REPUBLICAN</td>\n",
       "      <td>False</td>\n",
       "      <td>1441170</td>\n",
       "      <td>2323282</td>\n",
       "      <td>20210113</td>\n",
       "      <td>NaN</td>\n",
       "      <td>REPUBLICAN</td>\n",
       "    </tr>\n",
       "    <tr>\n",
       "      <th>3742</th>\n",
       "      <td>2020</td>\n",
       "      <td>ALABAMA</td>\n",
       "      <td>AL</td>\n",
       "      <td>1</td>\n",
       "      <td>63</td>\n",
       "      <td>41</td>\n",
       "      <td>US PRESIDENT</td>\n",
       "      <td>JORGENSEN, JO</td>\n",
       "      <td>LIBERTARIAN</td>\n",
       "      <td>False</td>\n",
       "      <td>25176</td>\n",
       "      <td>2323282</td>\n",
       "      <td>20210113</td>\n",
       "      <td>NaN</td>\n",
       "      <td>LIBERTARIAN</td>\n",
       "    </tr>\n",
       "    <tr>\n",
       "      <th>3743</th>\n",
       "      <td>2020</td>\n",
       "      <td>ALABAMA</td>\n",
       "      <td>AL</td>\n",
       "      <td>1</td>\n",
       "      <td>63</td>\n",
       "      <td>41</td>\n",
       "      <td>US PRESIDENT</td>\n",
       "      <td>NaN</td>\n",
       "      <td>NaN</td>\n",
       "      <td>True</td>\n",
       "      <td>7312</td>\n",
       "      <td>2323282</td>\n",
       "      <td>20210113</td>\n",
       "      <td>NaN</td>\n",
       "      <td>OTHER</td>\n",
       "    </tr>\n",
       "    <tr>\n",
       "      <th>3744</th>\n",
       "      <td>2020</td>\n",
       "      <td>ALASKA</td>\n",
       "      <td>AK</td>\n",
       "      <td>2</td>\n",
       "      <td>94</td>\n",
       "      <td>81</td>\n",
       "      <td>US PRESIDENT</td>\n",
       "      <td>BIDEN, JOSEPH R. JR</td>\n",
       "      <td>DEMOCRAT</td>\n",
       "      <td>False</td>\n",
       "      <td>153778</td>\n",
       "      <td>359530</td>\n",
       "      <td>20210113</td>\n",
       "      <td>NaN</td>\n",
       "      <td>DEMOCRAT</td>\n",
       "    </tr>\n",
       "    <tr>\n",
       "      <th>...</th>\n",
       "      <td>...</td>\n",
       "      <td>...</td>\n",
       "      <td>...</td>\n",
       "      <td>...</td>\n",
       "      <td>...</td>\n",
       "      <td>...</td>\n",
       "      <td>...</td>\n",
       "      <td>...</td>\n",
       "      <td>...</td>\n",
       "      <td>...</td>\n",
       "      <td>...</td>\n",
       "      <td>...</td>\n",
       "      <td>...</td>\n",
       "      <td>...</td>\n",
       "      <td>...</td>\n",
       "    </tr>\n",
       "    <tr>\n",
       "      <th>4282</th>\n",
       "      <td>2020</td>\n",
       "      <td>WYOMING</td>\n",
       "      <td>WY</td>\n",
       "      <td>56</td>\n",
       "      <td>83</td>\n",
       "      <td>68</td>\n",
       "      <td>US PRESIDENT</td>\n",
       "      <td>JORGENSEN, JO</td>\n",
       "      <td>LIBERTARIAN</td>\n",
       "      <td>False</td>\n",
       "      <td>5768</td>\n",
       "      <td>278503</td>\n",
       "      <td>20210113</td>\n",
       "      <td>NaN</td>\n",
       "      <td>LIBERTARIAN</td>\n",
       "    </tr>\n",
       "    <tr>\n",
       "      <th>4283</th>\n",
       "      <td>2020</td>\n",
       "      <td>WYOMING</td>\n",
       "      <td>WY</td>\n",
       "      <td>56</td>\n",
       "      <td>83</td>\n",
       "      <td>68</td>\n",
       "      <td>US PRESIDENT</td>\n",
       "      <td>PIERCE, BROCK</td>\n",
       "      <td>INDEPENDENT</td>\n",
       "      <td>False</td>\n",
       "      <td>2208</td>\n",
       "      <td>278503</td>\n",
       "      <td>20210113</td>\n",
       "      <td>NaN</td>\n",
       "      <td>OTHER</td>\n",
       "    </tr>\n",
       "    <tr>\n",
       "      <th>4284</th>\n",
       "      <td>2020</td>\n",
       "      <td>WYOMING</td>\n",
       "      <td>WY</td>\n",
       "      <td>56</td>\n",
       "      <td>83</td>\n",
       "      <td>68</td>\n",
       "      <td>US PRESIDENT</td>\n",
       "      <td>NaN</td>\n",
       "      <td>NaN</td>\n",
       "      <td>True</td>\n",
       "      <td>1739</td>\n",
       "      <td>278503</td>\n",
       "      <td>20210113</td>\n",
       "      <td>NaN</td>\n",
       "      <td>OTHER</td>\n",
       "    </tr>\n",
       "    <tr>\n",
       "      <th>4285</th>\n",
       "      <td>2020</td>\n",
       "      <td>WYOMING</td>\n",
       "      <td>WY</td>\n",
       "      <td>56</td>\n",
       "      <td>83</td>\n",
       "      <td>68</td>\n",
       "      <td>US PRESIDENT</td>\n",
       "      <td>OVERVOTES</td>\n",
       "      <td>NaN</td>\n",
       "      <td>False</td>\n",
       "      <td>279</td>\n",
       "      <td>278503</td>\n",
       "      <td>20210113</td>\n",
       "      <td>NaN</td>\n",
       "      <td>OTHER</td>\n",
       "    </tr>\n",
       "    <tr>\n",
       "      <th>4286</th>\n",
       "      <td>2020</td>\n",
       "      <td>WYOMING</td>\n",
       "      <td>WY</td>\n",
       "      <td>56</td>\n",
       "      <td>83</td>\n",
       "      <td>68</td>\n",
       "      <td>US PRESIDENT</td>\n",
       "      <td>UNDERVOTES</td>\n",
       "      <td>NaN</td>\n",
       "      <td>False</td>\n",
       "      <td>1459</td>\n",
       "      <td>278503</td>\n",
       "      <td>20210113</td>\n",
       "      <td>NaN</td>\n",
       "      <td>OTHER</td>\n",
       "    </tr>\n",
       "  </tbody>\n",
       "</table>\n",
       "<p>547 rows × 15 columns</p>\n",
       "</div>"
      ],
      "text/plain": [
       "      year    state state_po  state_fips  state_cen  state_ic        office  \\\n",
       "3740  2020  ALABAMA       AL           1         63        41  US PRESIDENT   \n",
       "3741  2020  ALABAMA       AL           1         63        41  US PRESIDENT   \n",
       "3742  2020  ALABAMA       AL           1         63        41  US PRESIDENT   \n",
       "3743  2020  ALABAMA       AL           1         63        41  US PRESIDENT   \n",
       "3744  2020   ALASKA       AK           2         94        81  US PRESIDENT   \n",
       "...    ...      ...      ...         ...        ...       ...           ...   \n",
       "4282  2020  WYOMING       WY          56         83        68  US PRESIDENT   \n",
       "4283  2020  WYOMING       WY          56         83        68  US PRESIDENT   \n",
       "4284  2020  WYOMING       WY          56         83        68  US PRESIDENT   \n",
       "4285  2020  WYOMING       WY          56         83        68  US PRESIDENT   \n",
       "4286  2020  WYOMING       WY          56         83        68  US PRESIDENT   \n",
       "\n",
       "                candidate party_detailed writein  candidatevotes  totalvotes  \\\n",
       "3740  BIDEN, JOSEPH R. JR       DEMOCRAT   False          849624     2323282   \n",
       "3741     TRUMP, DONALD J.     REPUBLICAN   False         1441170     2323282   \n",
       "3742        JORGENSEN, JO    LIBERTARIAN   False           25176     2323282   \n",
       "3743                  NaN            NaN    True            7312     2323282   \n",
       "3744  BIDEN, JOSEPH R. JR       DEMOCRAT   False          153778      359530   \n",
       "...                   ...            ...     ...             ...         ...   \n",
       "4282        JORGENSEN, JO    LIBERTARIAN   False            5768      278503   \n",
       "4283        PIERCE, BROCK    INDEPENDENT   False            2208      278503   \n",
       "4284                  NaN            NaN    True            1739      278503   \n",
       "4285            OVERVOTES            NaN   False             279      278503   \n",
       "4286           UNDERVOTES            NaN   False            1459      278503   \n",
       "\n",
       "       version  notes party_simplified  \n",
       "3740  20210113    NaN         DEMOCRAT  \n",
       "3741  20210113    NaN       REPUBLICAN  \n",
       "3742  20210113    NaN      LIBERTARIAN  \n",
       "3743  20210113    NaN            OTHER  \n",
       "3744  20210113    NaN         DEMOCRAT  \n",
       "...        ...    ...              ...  \n",
       "4282  20210113    NaN      LIBERTARIAN  \n",
       "4283  20210113    NaN            OTHER  \n",
       "4284  20210113    NaN            OTHER  \n",
       "4285  20210113    NaN            OTHER  \n",
       "4286  20210113    NaN            OTHER  \n",
       "\n",
       "[547 rows x 15 columns]"
      ]
     },
     "execution_count": 43,
     "metadata": {},
     "output_type": "execute_result"
    }
   ],
   "source": [
    "pres_csv.loc[pres_csv['year']==2020]"
   ]
  },
  {
   "cell_type": "code",
   "execution_count": 49,
   "id": "a4c6dd1d",
   "metadata": {},
   "outputs": [
    {
     "name": "stdout",
     "output_type": "stream",
     "text": [
      "158528503\n"
     ]
    }
   ],
   "source": [
    "pres2020 = pres_csv.loc[pres_csv['year']==2020]\n",
    "print(pres2020['candidatevotes'].sum()[''])"
   ]
  },
  {
   "cell_type": "code",
   "execution_count": 52,
   "id": "13e8c08d",
   "metadata": {},
   "outputs": [
    {
     "name": "stdout",
     "output_type": "stream",
     "text": [
      "      state_fips  state_cen  state_ic  candidatevotes  totalvotes  \\\n",
      "year                                                                \n",
      "1976        9839      17287     12678        81601344   605944064   \n",
      "1980       10607      18842     13958        86496851   663902096   \n",
      "1984        9523      16831     12494        92654861   609936856   \n",
      "1988        8322      15021     11187        91586825   537099170   \n",
      "1992       10699      20090     14984       104599780   770486377   \n",
      "1996       10415      20328     15054        96389818   728343795   \n",
      "2000       10704      20217     15029       105593982   783441739   \n",
      "2004        9054      17355     12905       122349450   768259747   \n",
      "2008       10030      19141     14177       131419253   992684830   \n",
      "2012        9036      17403     12939       129139997   879479158   \n",
      "2016        9692      18977     14218       136787187   941573717   \n",
      "2020       14760      28570     20806       158528503  1865852281   \n",
      "\n",
      "          version  notes  \n",
      "year                      \n",
      "1976   6709757516    0.0  \n",
      "1980   7356481132    0.0  \n",
      "1984   6527866499    0.0  \n",
      "1988   5759882205    0.0  \n",
      "1992   7477741810    0.0  \n",
      "1996   7437321584    0.0  \n",
      "2000   7457531697    0.0  \n",
      "2004   6406605821    0.0  \n",
      "2008   7093749663    0.0  \n",
      "2012   6386395708    0.0  \n",
      "2016   6972488985    0.0  \n",
      "2020  11054931811    0.0  \n"
     ]
    }
   ],
   "source": [
    "total_votes = pres_csv.groupby('year').sum('totalvotes')\n",
    "print (total_votes)"
   ]
  },
  {
   "cell_type": "code",
   "execution_count": null,
   "id": "08da5c26",
   "metadata": {},
   "outputs": [],
   "source": []
  }
 ],
 "metadata": {
  "kernelspec": {
   "display_name": "Python 3 (ipykernel)",
   "language": "python",
   "name": "python3"
  },
  "language_info": {
   "codemirror_mode": {
    "name": "ipython",
    "version": 3
   },
   "file_extension": ".py",
   "mimetype": "text/x-python",
   "name": "python",
   "nbconvert_exporter": "python",
   "pygments_lexer": "ipython3",
   "version": "3.9.13"
  }
 },
 "nbformat": 4,
 "nbformat_minor": 5
}
