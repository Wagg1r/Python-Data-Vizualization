{
 "cells": [
  {
   "cell_type": "code",
   "execution_count": 1,
   "id": "492fd583",
   "metadata": {},
   "outputs": [
    {
     "name": "stdout",
     "output_type": "stream",
     "text": [
      "{3: 14, 2: 15, 5: 13, 6: 12, 4: 12, 1: 20, 7: 14}\n"
     ]
    }
   ],
   "source": [
    "import random\n",
    "dicerolls = {}\n",
    "for i in range(100):\n",
    "    num=random.randint(1,7)\n",
    "    if num in dicerolls:\n",
    "        dicerolls[num] += 1\n",
    "    else:\n",
    "        dicerolls[num]=1 \n",
    "print(dicerolls)"
   ]
  },
  {
   "cell_type": "code",
   "execution_count": 6,
   "id": "65672dff",
   "metadata": {},
   "outputs": [
    {
     "name": "stdout",
     "output_type": "stream",
     "text": [
      "enter a number: 20\n",
      "{}\n",
      "{}\n"
     ]
    },
    {
     "ename": "KeyError",
     "evalue": "1",
     "output_type": "error",
     "traceback": [
      "\u001b[1;31m---------------------------------------------------------------------------\u001b[0m",
      "\u001b[1;31mKeyError\u001b[0m                                  Traceback (most recent call last)",
      "\u001b[1;32m~\\AppData\\Local\\Temp\\ipykernel_18360\\1929184188.py\u001b[0m in \u001b[0;36m<module>\u001b[1;34m\u001b[0m\n\u001b[0;32m     25\u001b[0m \u001b[1;32mfor\u001b[0m \u001b[0mi\u001b[0m \u001b[1;32min\u001b[0m \u001b[0mrange\u001b[0m \u001b[1;33m(\u001b[0m\u001b[1;36m2\u001b[0m\u001b[1;33m,\u001b[0m\u001b[1;36m12\u001b[0m\u001b[1;33m)\u001b[0m\u001b[1;33m:\u001b[0m\u001b[1;33m\u001b[0m\u001b[1;33m\u001b[0m\u001b[0m\n\u001b[0;32m     26\u001b[0m     \u001b[1;32mfor\u001b[0m \u001b[0mj\u001b[0m \u001b[1;32min\u001b[0m \u001b[0mrange\u001b[0m \u001b[1;33m(\u001b[0m\u001b[1;36m1\u001b[0m\u001b[1;33m,\u001b[0m\u001b[1;36m6\u001b[0m\u001b[1;33m)\u001b[0m\u001b[1;33m:\u001b[0m\u001b[1;33m\u001b[0m\u001b[1;33m\u001b[0m\u001b[0m\n\u001b[1;32m---> 27\u001b[1;33m         \u001b[0mdicerollsum\u001b[0m\u001b[1;33m[\u001b[0m\u001b[0mi\u001b[0m\u001b[1;33m]\u001b[0m \u001b[1;33m=\u001b[0m \u001b[0mdicerolls1\u001b[0m\u001b[1;33m[\u001b[0m\u001b[0mj\u001b[0m\u001b[1;33m]\u001b[0m\u001b[1;33m+\u001b[0m\u001b[0mdicerolls2\u001b[0m\u001b[1;33m[\u001b[0m\u001b[0mj\u001b[0m\u001b[1;33m]\u001b[0m\u001b[1;33m\u001b[0m\u001b[1;33m\u001b[0m\u001b[0m\n\u001b[0m\u001b[0;32m     28\u001b[0m \u001b[0mprint\u001b[0m \u001b[1;33m(\u001b[0m\u001b[0mdicerollssum\u001b[0m\u001b[1;33m)\u001b[0m\u001b[1;33m\u001b[0m\u001b[1;33m\u001b[0m\u001b[0m\n",
      "\u001b[1;31mKeyError\u001b[0m: 1"
     ]
    }
   ],
   "source": [
    "import random\n",
    "dicerolls1 = {}\n",
    "n =int(input(\"enter a number: \"))\n",
    "\n",
    "for i in range(n):\n",
    "    num=random.randint(1,7)\n",
    "    if num in dicerolls:\n",
    "        dicerolls[num] += 1\n",
    "    else:\n",
    "        dicerolls[num]=1 \n",
    "print(dicerolls1)\n",
    "\n",
    "\n",
    "import random\n",
    "dicerolls2 = {}\n",
    "for i in range(n):\n",
    "    num=random.randint(1,7)\n",
    "    if num in dicerolls:\n",
    "        dicerolls[num] += 1\n",
    "    else:\n",
    "        dicerolls[num]=1 \n",
    "print(dicerolls2)\n",
    "\n",
    "dicerollssum = {}\n",
    "for i in range (2,12):\n",
    "    for j in range (1,6):\n",
    "        dicerollsum[i] = dicerolls1[j]+dicerolls2[j]\n",
    "print (dicerollssum)"
   ]
  },
  {
   "cell_type": "code",
   "execution_count": 14,
   "id": "90a01d49",
   "metadata": {},
   "outputs": [
    {
     "name": "stdout",
     "output_type": "stream",
     "text": [
      "enter a number: 20\n",
      "{6: 16, 7: 16, 4: 15, 5: 15, 3: 15, 2: 12, 1: 11}\n",
      "{6: 15, 5: 15, 4: 21, 2: 13, 1: 10, 3: 12, 7: 14}\n"
     ]
    },
    {
     "ename": "KeyError",
     "evalue": "2",
     "output_type": "error",
     "traceback": [
      "\u001b[1;31m---------------------------------------------------------------------------\u001b[0m",
      "\u001b[1;31mKeyError\u001b[0m                                  Traceback (most recent call last)",
      "\u001b[1;32m~\\AppData\\Local\\Temp\\ipykernel_18360\\3918076078.py\u001b[0m in \u001b[0;36m<module>\u001b[1;34m\u001b[0m\n\u001b[0;32m     25\u001b[0m \u001b[1;32mfor\u001b[0m \u001b[0mi\u001b[0m \u001b[1;32min\u001b[0m \u001b[0mrange\u001b[0m \u001b[1;33m(\u001b[0m\u001b[1;36m2\u001b[0m\u001b[1;33m,\u001b[0m\u001b[1;36m12\u001b[0m\u001b[1;33m)\u001b[0m\u001b[1;33m:\u001b[0m\u001b[1;33m\u001b[0m\u001b[1;33m\u001b[0m\u001b[0m\n\u001b[0;32m     26\u001b[0m     \u001b[1;32mfor\u001b[0m \u001b[0mj\u001b[0m \u001b[1;32min\u001b[0m \u001b[0mrange\u001b[0m \u001b[1;33m(\u001b[0m\u001b[1;36m1\u001b[0m\u001b[1;33m,\u001b[0m\u001b[1;36m6\u001b[0m\u001b[1;33m)\u001b[0m\u001b[1;33m:\u001b[0m\u001b[1;33m\u001b[0m\u001b[1;33m\u001b[0m\u001b[0m\n\u001b[1;32m---> 27\u001b[1;33m         \u001b[1;32mif\u001b[0m \u001b[0mdicerolls1\u001b[0m\u001b[1;33m[\u001b[0m\u001b[0mj\u001b[0m\u001b[1;33m]\u001b[0m\u001b[1;33m+\u001b[0m\u001b[0mdicerolls2\u001b[0m\u001b[1;33m[\u001b[0m\u001b[0mj\u001b[0m\u001b[1;33m]\u001b[0m \u001b[1;32min\u001b[0m \u001b[0mdicerollssum\u001b[0m\u001b[1;33m[\u001b[0m\u001b[0mi\u001b[0m\u001b[1;33m]\u001b[0m\u001b[1;33m:\u001b[0m\u001b[1;33m\u001b[0m\u001b[1;33m\u001b[0m\u001b[0m\n\u001b[0m\u001b[0;32m     28\u001b[0m             \u001b[0mdicerollsum\u001b[0m\u001b[1;33m[\u001b[0m\u001b[0mi\u001b[0m\u001b[1;33m]\u001b[0m \u001b[1;33m=\u001b[0m \u001b[0mdicerolls1\u001b[0m\u001b[1;33m[\u001b[0m\u001b[0mj\u001b[0m\u001b[1;33m]\u001b[0m\u001b[1;33m+\u001b[0m\u001b[0mdicerolls2\u001b[0m\u001b[1;33m[\u001b[0m\u001b[0mj\u001b[0m\u001b[1;33m]\u001b[0m\u001b[1;33m\u001b[0m\u001b[1;33m\u001b[0m\u001b[0m\n\u001b[0;32m     29\u001b[0m         \u001b[1;32melse\u001b[0m\u001b[1;33m:\u001b[0m\u001b[1;33m\u001b[0m\u001b[1;33m\u001b[0m\u001b[0m\n",
      "\u001b[1;31mKeyError\u001b[0m: 2"
     ]
    }
   ],
   "source": [
    "import random\n",
    "dicerolls1 = {}\n",
    "n =int(input(\"enter a number: \"))\n",
    "\n",
    "for i in range(100):\n",
    "    num=random.randint(1,7)\n",
    "    if num in dicerolls1:\n",
    "        dicerolls1[num] += 1\n",
    "    else:\n",
    "        dicerolls1[num]=1 \n",
    "print(dicerolls1)\n",
    "\n",
    "dicerolls2 = {}\n",
    "for i in range(100):\n",
    "    num=random.randint(1,7)\n",
    "    if num in dicerolls2:\n",
    "        dicerolls2[num] += 1\n",
    "    else:\n",
    "        dicerolls2[num]=1 \n",
    "print(dicerolls2)\n",
    "\n",
    "dicerollssum = {}\n",
    "for i in range (2,12):\n",
    "    for j in range (1,6):\n",
    "        if dicerolls1[j]+dicerolls2[j] in dicerollssum[i]:\n",
    "            dicerollsum[i] = dicerolls1[j]+dicerolls2[j]\n",
    "        else:\n",
    "            dicerollsum[i] += 1\n",
    "print (dicerollssum)"
   ]
  },
  {
   "cell_type": "code",
   "execution_count": 42,
   "id": "727c2a43",
   "metadata": {},
   "outputs": [
    {
     "name": "stdout",
     "output_type": "stream",
     "text": [
      "enter a number: 75\n",
      "{1: 20, 5: 7, 6: 14, 2: 9, 4: 16, 3: 9}\n",
      "{2: 21, 1: 10, 5: 6, 4: 21, 3: 9, 6: 8}\n",
      "{3: 8, 6: 13, 11: 3, 8: 10, 7: 14, 9: 2, 12: 2, 5: 10, 4: 5, 10: 6, 2: 2}\n",
      "xx\n",
      "xxxxxxxx\n",
      "xxxxx\n",
      "xxxxxxxxxx\n",
      "xxxxxxxxxxxxx\n",
      "xxxxxxxxxxxxxx\n",
      "xxxxxxxxxx\n",
      "xx\n",
      "xxxxxx\n",
      "xxx\n",
      "xx\n"
     ]
    }
   ],
   "source": [
    "import random\n",
    "dicerolls1 = {}\n",
    "dicerolls2 = {}\n",
    "dicerollssum = {}\n",
    "n =int(input(\"enter a number: \"))\n",
    "\n",
    "for i in range(n):\n",
    "    num1=random.randint(1,6)\n",
    "    if num1 in dicerolls1:\n",
    "        dicerolls1[num1] += 1\n",
    "    else:\n",
    "        dicerolls1[num1]=1 \n",
    "\n",
    "    \n",
    "    num2=random.randint(1,6)\n",
    "    if num2 in dicerolls2:\n",
    "        dicerolls2[num2] += 1\n",
    "    else:\n",
    "        dicerolls2[num2]=1 \n",
    "\n",
    "    add = num1 + num2\n",
    "    if add in dicerollssum:\n",
    "        dicerollssum[add] += 1\n",
    "    else:\n",
    "        dicerollssum[add] = 1\n",
    "    \n",
    "    \n",
    "print(dicerolls2)   \n",
    "print(dicerolls1)        \n",
    "print(dicerollssum)\n",
    "\n",
    "\n",
    "for i in sorted(dicerollssum):\n",
    "    print(\"x\" *dicerollssum[i])"
   ]
  },
  {
   "cell_type": "code",
   "execution_count": null,
   "id": "0c8921d4",
   "metadata": {},
   "outputs": [],
   "source": []
  },
  {
   "cell_type": "code",
   "execution_count": null,
   "id": "be1e20b8",
   "metadata": {},
   "outputs": [],
   "source": []
  }
 ],
 "metadata": {
  "kernelspec": {
   "display_name": "Python 3 (ipykernel)",
   "language": "python",
   "name": "python3"
  },
  "language_info": {
   "codemirror_mode": {
    "name": "ipython",
    "version": 3
   },
   "file_extension": ".py",
   "mimetype": "text/x-python",
   "name": "python",
   "nbconvert_exporter": "python",
   "pygments_lexer": "ipython3",
   "version": "3.9.13"
  }
 },
 "nbformat": 4,
 "nbformat_minor": 5
}
